{
 "cells": [
  {
   "cell_type": "code",
   "execution_count": 1,
   "metadata": {},
   "outputs": [],
   "source": [
    "import torch\n",
    "import torch.nn as nn\n",
    "import torch.nn.functional as F\n",
    "from torch.utils.data import DataLoader\n",
    "from torch.utils.data import Dataset  "
   ]
  },
  {
   "cell_type": "code",
   "execution_count": 3,
   "metadata": {},
   "outputs": [
    {
     "data": {
      "text/plain": [
       "tensor([1.0000, 1.0001])"
      ]
     },
     "execution_count": 3,
     "metadata": {},
     "output_type": "execute_result"
    }
   ],
   "source": [
    "softmax_output = torch.tensor([\n",
    "    [0.0310, 0.0419, 0.0284, 0.0549, 0.0342, 0.0430, 0.0340, 0.0345, 0.0514,\n",
    "     0.0405, 0.0310, 0.0464, 0.0306, 0.0473, 0.0189, 0.0424, 0.0261, 0.0245,\n",
    "     0.0389, 0.0274, 0.0265, 0.0455, 0.0240, 0.0516, 0.0292, 0.0372, 0.0306,\n",
    "     0.0281],\n",
    "    [0.0246, 0.0444, 0.0270, 0.0592, 0.0310, 0.0465, 0.0345, 0.0310, 0.0578,\n",
    "     0.0407, 0.0301, 0.0452, 0.0290, 0.0552, 0.0183, 0.0449, 0.0301, 0.0219,\n",
    "     0.0386, 0.0224, 0.0256, 0.0456, 0.0212, 0.0489, 0.0249, 0.0359, 0.0332,\n",
    "     0.0324]\n",
    "])\n",
    "softmax_output.sum(dim=1)"
   ]
  },
  {
   "cell_type": "code",
   "execution_count": 32,
   "metadata": {},
   "outputs": [],
   "source": [
    "def infer(probs, threshold):\n",
    "    # TODO: implement this\n",
    "    # top1 = p1 top 2 = p2\n",
    "    # if p2 > p1 * 0.8, class include both p1 and p2, else p1 only\n",
    "    top_values, top_indices = probs.topk(probs.shape[0])\n",
    "    print(top_values)\n",
    "    print(top_indices)\n",
    "    selected = top_indices[0:1]\n",
    "    for i in range(1, probs.shape[0]):\n",
    "        pre_value = top_values[i-1].item()\n",
    "        value = top_values[i].item()\n",
    "        index = top_indices[i:i+1]\n",
    "        print(pre_value, value, index)\n",
    "        if value > threshold * pre_value:\n",
    "            selected = torch.cat((selected, index), dim=0)\n",
    "        else:\n",
    "            return selected\n",
    "    return selected\n",
    "    "
   ]
  },
  {
   "cell_type": "code",
   "execution_count": 33,
   "metadata": {},
   "outputs": [
    {
     "name": "stdout",
     "output_type": "stream",
     "text": [
      "tensor([0.0549, 0.0516, 0.0514, 0.0473, 0.0464, 0.0455, 0.0430, 0.0424, 0.0419,\n",
      "        0.0405, 0.0389, 0.0372, 0.0345, 0.0342, 0.0340, 0.0310, 0.0310, 0.0306,\n",
      "        0.0306, 0.0292, 0.0284, 0.0281, 0.0274, 0.0265, 0.0261, 0.0245, 0.0240,\n",
      "        0.0189])\n",
      "tensor([ 3, 23,  8, 13, 11, 21,  5, 15,  1,  9, 18, 25,  7,  4,  6,  0, 10, 12,\n",
      "        26, 24,  2, 27, 19, 20, 16, 17, 22, 14])\n",
      "0.05490000173449516 0.051600001752376556 tensor([23])\n",
      "0.051600001752376556 0.05139999836683273 tensor([8])\n",
      "0.05139999836683273 0.04729999974370003 tensor([13])\n",
      "0.04729999974370003 0.04639999940991402 tensor([11])\n",
      "0.04639999940991402 0.045499999076128006 tensor([21])\n",
      "0.045499999076128006 0.0430000014603138 tensor([5])\n",
      "0.0430000014603138 0.042399998754262924 tensor([15])\n",
      "0.042399998754262924 0.04190000146627426 tensor([1])\n",
      "0.04190000146627426 0.04050000011920929 tensor([9])\n",
      "0.04050000011920929 0.03889999911189079 tensor([18])\n",
      "0.03889999911189079 0.03720000013709068 tensor([25])\n",
      "0.03720000013709068 0.03449999913573265 tensor([7])\n",
      "0.03449999913573265 0.03420000150799751 tensor([4])\n",
      "0.03420000150799751 0.03400000184774399 tensor([6])\n",
      "0.03400000184774399 0.03099999949336052 tensor([0])\n",
      "0.03099999949336052 0.03099999949336052 tensor([10])\n",
      "0.03099999949336052 0.03060000017285347 tensor([12])\n",
      "0.03060000017285347 0.03060000017285347 tensor([26])\n",
      "0.03060000017285347 0.029200000688433647 tensor([24])\n",
      "0.029200000688433647 0.0284000001847744 tensor([2])\n",
      "0.0284000001847744 0.02810000069439411 tensor([27])\n",
      "0.02810000069439411 0.027400000020861626 tensor([19])\n",
      "0.027400000020861626 0.026499999687075615 tensor([20])\n",
      "0.026499999687075615 0.026100000366568565 tensor([16])\n",
      "0.026100000366568565 0.02449999935925007 tensor([17])\n",
      "0.02449999935925007 0.024000000208616257 tensor([22])\n",
      "0.024000000208616257 0.01889999955892563 tensor([14])\n"
     ]
    }
   ],
   "source": [
    "result = infer(softmax_output[0], 0.8)"
   ]
  },
  {
   "cell_type": "code",
   "execution_count": 85,
   "metadata": {},
   "outputs": [
    {
     "name": "stdout",
     "output_type": "stream",
     "text": [
      "tensor([0.0549, 0.0516, 0.0514, 0.0473, 0.0464, 0.0455, 0.0430, 0.0424, 0.0419,\n",
      "        0.0405, 0.0389, 0.0372, 0.0345, 0.0342, 0.0340, 0.0310, 0.0310, 0.0306,\n",
      "        0.0306, 0.0292, 0.0284, 0.0281, 0.0274, 0.0265, 0.0261, 0.0245, 0.0240,\n",
      "        0.0189])\n",
      "tensor([ 3, 23,  8, 13, 11, 21,  5, 15,  1,  9, 18, 25,  7,  4,  6,  0, 10, 12,\n",
      "        26, 24,  2, 27, 19, 20, 16, 17, 22, 14])\n",
      "0.05490000173449516 0.051600001752376556 tensor([23])\n",
      "0.051600001752376556 0.05139999836683273 tensor([8])\n",
      "0.05139999836683273 0.04729999974370003 tensor([13])\n",
      "0.04729999974370003 0.04639999940991402 tensor([11])\n",
      "0.04639999940991402 0.045499999076128006 tensor([21])\n",
      "0.045499999076128006 0.0430000014603138 tensor([5])\n",
      "0.0430000014603138 0.042399998754262924 tensor([15])\n",
      "0.042399998754262924 0.04190000146627426 tensor([1])\n",
      "0.04190000146627426 0.04050000011920929 tensor([9])\n",
      "0.04050000011920929 0.03889999911189079 tensor([18])\n",
      "0.03889999911189079 0.03720000013709068 tensor([25])\n",
      "0.03720000013709068 0.03449999913573265 tensor([7])\n",
      "0.03449999913573265 0.03420000150799751 tensor([4])\n",
      "0.03420000150799751 0.03400000184774399 tensor([6])\n",
      "0.03400000184774399 0.03099999949336052 tensor([0])\n",
      "0.03099999949336052 0.03099999949336052 tensor([10])\n",
      "0.03099999949336052 0.03060000017285347 tensor([12])\n",
      "0.03060000017285347 0.03060000017285347 tensor([26])\n",
      "0.03060000017285347 0.029200000688433647 tensor([24])\n",
      "0.029200000688433647 0.0284000001847744 tensor([2])\n",
      "0.0284000001847744 0.02810000069439411 tensor([27])\n",
      "0.02810000069439411 0.027400000020861626 tensor([19])\n",
      "0.027400000020861626 0.026499999687075615 tensor([20])\n",
      "0.026499999687075615 0.026100000366568565 tensor([16])\n",
      "0.026100000366568565 0.02449999935925007 tensor([17])\n",
      "0.02449999935925007 0.024000000208616257 tensor([22])\n",
      "0.024000000208616257 0.01889999955892563 tensor([14])\n"
     ]
    },
    {
     "data": {
      "text/plain": [
       "tensor([ 3, 23,  8, 13, 11, 21,  5, 15,  1,  9, 18, 25,  7,  4,  6,  0, 10, 12,\n",
       "        26, 24,  2, 27, 19, 20, 16, 17, 22])"
      ]
     },
     "execution_count": 85,
     "metadata": {},
     "output_type": "execute_result"
    }
   ],
   "source": [
    "infer(softmax_output[0], 0.85)"
   ]
  },
  {
   "cell_type": "code",
   "execution_count": 87,
   "metadata": {},
   "outputs": [
    {
     "name": "stdout",
     "output_type": "stream",
     "text": [
      "tensor([0.0549, 0.0516, 0.0514, 0.0473, 0.0464, 0.0455, 0.0430, 0.0424, 0.0419,\n",
      "        0.0405, 0.0389, 0.0372, 0.0345, 0.0342, 0.0340, 0.0310, 0.0310, 0.0306,\n",
      "        0.0306, 0.0292, 0.0284, 0.0281, 0.0274, 0.0265, 0.0261, 0.0245, 0.0240,\n",
      "        0.0189])\n",
      "tensor([ 3, 23,  8, 13, 11, 21,  5, 15,  1,  9, 18, 25,  7,  4,  6,  0, 10, 12,\n",
      "        26, 24,  2, 27, 19, 20, 16, 17, 22, 14])\n",
      "0.05490000173449516 0.051600001752376556 tensor([23])\n",
      "0.051600001752376556 0.05139999836683273 tensor([8])\n",
      "0.05139999836683273 0.04729999974370003 tensor([13])\n",
      "0.04729999974370003 0.04639999940991402 tensor([11])\n",
      "0.04639999940991402 0.045499999076128006 tensor([21])\n",
      "0.045499999076128006 0.0430000014603138 tensor([5])\n",
      "0.0430000014603138 0.042399998754262924 tensor([15])\n",
      "0.042399998754262924 0.04190000146627426 tensor([1])\n",
      "0.04190000146627426 0.04050000011920929 tensor([9])\n",
      "0.04050000011920929 0.03889999911189079 tensor([18])\n",
      "0.03889999911189079 0.03720000013709068 tensor([25])\n",
      "0.03720000013709068 0.03449999913573265 tensor([7])\n",
      "0.03449999913573265 0.03420000150799751 tensor([4])\n",
      "0.03420000150799751 0.03400000184774399 tensor([6])\n",
      "0.03400000184774399 0.03099999949336052 tensor([0])\n",
      "0.03099999949336052 0.03099999949336052 tensor([10])\n",
      "0.03099999949336052 0.03060000017285347 tensor([12])\n",
      "0.03060000017285347 0.03060000017285347 tensor([26])\n",
      "0.03060000017285347 0.029200000688433647 tensor([24])\n",
      "0.029200000688433647 0.0284000001847744 tensor([2])\n",
      "0.0284000001847744 0.02810000069439411 tensor([27])\n",
      "0.02810000069439411 0.027400000020861626 tensor([19])\n",
      "0.027400000020861626 0.026499999687075615 tensor([20])\n",
      "0.026499999687075615 0.026100000366568565 tensor([16])\n",
      "0.026100000366568565 0.02449999935925007 tensor([17])\n",
      "0.02449999935925007 0.024000000208616257 tensor([22])\n",
      "0.024000000208616257 0.01889999955892563 tensor([14])\n"
     ]
    },
    {
     "data": {
      "text/plain": [
       "tensor([ 3, 23,  8, 13, 11, 21,  5, 15,  1,  9, 18, 25,  7,  4,  6,  0, 10, 12,\n",
       "        26, 24,  2, 27, 19, 20, 16, 17, 22])"
      ]
     },
     "execution_count": 87,
     "metadata": {},
     "output_type": "execute_result"
    }
   ],
   "source": [
    "infer(softmax_output[0], 0.9)"
   ]
  },
  {
   "cell_type": "code",
   "execution_count": 86,
   "metadata": {},
   "outputs": [
    {
     "name": "stdout",
     "output_type": "stream",
     "text": [
      "tensor([0.0549, 0.0516, 0.0514, 0.0473, 0.0464, 0.0455, 0.0430, 0.0424, 0.0419,\n",
      "        0.0405, 0.0389, 0.0372, 0.0345, 0.0342, 0.0340, 0.0310, 0.0310, 0.0306,\n",
      "        0.0306, 0.0292, 0.0284, 0.0281, 0.0274, 0.0265, 0.0261, 0.0245, 0.0240,\n",
      "        0.0189])\n",
      "tensor([ 3, 23,  8, 13, 11, 21,  5, 15,  1,  9, 18, 25,  7,  4,  6,  0, 10, 12,\n",
      "        26, 24,  2, 27, 19, 20, 16, 17, 22, 14])\n",
      "0.05490000173449516 0.051600001752376556 tensor([23])\n"
     ]
    },
    {
     "data": {
      "text/plain": [
       "tensor([3])"
      ]
     },
     "execution_count": 86,
     "metadata": {},
     "output_type": "execute_result"
    }
   ],
   "source": [
    "infer(softmax_output[0], 0.95)"
   ]
  },
  {
   "cell_type": "code",
   "execution_count": 36,
   "metadata": {},
   "outputs": [
    {
     "data": {
      "text/plain": [
       "torch.Size([28])"
      ]
     },
     "execution_count": 36,
     "metadata": {},
     "output_type": "execute_result"
    }
   ],
   "source": [
    "softmax_output[0].shape"
   ]
  },
  {
   "cell_type": "code",
   "execution_count": null,
   "metadata": {},
   "outputs": [
    {
     "data": {
      "text/plain": [
       "torch.Size([27])"
      ]
     },
     "execution_count": 35,
     "metadata": {},
     "output_type": "execute_result"
    }
   ],
   "source": [
    "result.shape"
   ]
  },
  {
   "cell_type": "code",
   "execution_count": 76,
   "metadata": {},
   "outputs": [],
   "source": [
    "def calculate_acc(predicted, labels):\n",
    "    concat = torch.cat((predicted, labels), dim=0)\n",
    "    unique = torch.unique(concat)\n",
    "    matches = torch.eq(predicted[:, None], labels)\n",
    "    correct = matches.sum()\n",
    "    return (correct / unique.shape[0]).item()"
   ]
  },
  {
   "cell_type": "code",
   "execution_count": 80,
   "metadata": {},
   "outputs": [],
   "source": [
    "test_pred1 = torch.tensor([19, 21])\n",
    "test_label1 = torch.tensor([21])\n",
    "test_label2 = torch.tensor([21, 23])\n",
    "test_label3 = torch.tensor([210, 230])"
   ]
  },
  {
   "cell_type": "code",
   "execution_count": 81,
   "metadata": {},
   "outputs": [
    {
     "data": {
      "text/plain": [
       "0.5"
      ]
     },
     "execution_count": 81,
     "metadata": {},
     "output_type": "execute_result"
    }
   ],
   "source": [
    "calculate_acc(test_pred1, test_label1)"
   ]
  },
  {
   "cell_type": "code",
   "execution_count": 82,
   "metadata": {},
   "outputs": [
    {
     "data": {
      "text/plain": [
       "0.3333333432674408"
      ]
     },
     "execution_count": 82,
     "metadata": {},
     "output_type": "execute_result"
    }
   ],
   "source": [
    "calculate_acc(test_pred1, test_label2)"
   ]
  },
  {
   "cell_type": "code",
   "execution_count": null,
   "metadata": {},
   "outputs": [
    {
     "data": {
      "text/plain": [
       "0.0"
      ]
     },
     "execution_count": 83,
     "metadata": {},
     "output_type": "execute_result"
    }
   ],
   "source": [
    "calculate_acc(test_pred1, test_label3)"
   ]
  }
 ],
 "metadata": {
  "kernelspec": {
   "display_name": "ece1508",
   "language": "python",
   "name": "python3"
  },
  "language_info": {
   "codemirror_mode": {
    "name": "ipython",
    "version": 3
   },
   "file_extension": ".py",
   "mimetype": "text/x-python",
   "name": "python",
   "nbconvert_exporter": "python",
   "pygments_lexer": "ipython3",
   "version": "3.10.14"
  }
 },
 "nbformat": 4,
 "nbformat_minor": 2
}
