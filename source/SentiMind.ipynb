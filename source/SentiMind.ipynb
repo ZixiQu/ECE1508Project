{
 "cells": [
  {
   "cell_type": "markdown",
   "metadata": {},
   "source": [
    "# SentiMind, Sentence Sentiment Clasfier\n",
    "### Input and Output\n",
    "The input is a sentence or sentences. The output is a list of 0-27 represent one or more sentiment including admiration, gratitude, surprise, or neutural.\n",
    "\n",
    "### Architecture\n",
    "the model or architecture we plan is \n",
    "1. Tokenizing the input\n",
    "2. use one of the pretrained encoder transformer from hugging face to process the embedding, make it context aware to increase accuracy.\n",
    "3. pass the context aware embedding to multiple layer of CNN, maybe 6 layers, each of a configuration of VGG level. \n",
    "4. connect the output of CNN to flattened and connect to FNN to make final classfication.\n",
    "5. softmax the result, include all class with prob greater than a threshold. For example, if a class is more than 0.3, include as output. anger 0.4, remorese 0.35, rest 0.25, output [anger, remorses]."
   ]
  },
  {
   "cell_type": "code",
   "execution_count": 5,
   "metadata": {},
   "outputs": [],
   "source": [
    "from transformers import AutoTokenizer, AutoModel\n",
    "import torch\n",
    "import torch.nn as nn\n",
    "import torch.nn.functional as F\n",
    "from torch.utils.data import DataLoader\n",
    "from torch.utils.data import Dataset\n",
    "\n",
    "# for plotting\n",
    "import matplotlib.pyplot as plt\n",
    "\n",
    "# for algebric computations\n",
    "import numpy as np\n",
    "from pprint import pprint\n",
    "from tqdm import tqdm\n",
    "\n",
    "# We may choose a GPU if we have one on our machine\n",
    "if torch.backends.cuda.is_built():\n",
    "  # if we have cuda\n",
    "  # usually on Windows machines with GPU\n",
    "  device = \"cuda\"\n",
    "elif torch.backends.mps.is_built():\n",
    "  # if we have MPS\n",
    "  # usually on MAC\n",
    "  device = \"mps\"\n",
    "else:\n",
    "  # if not we should use our CPU\n",
    "  device = \"cpu\"\n",
    "\n",
    "\n",
    "id_to_class = {\n",
    "    0: 'Admiration',\n",
    "    1: 'Amusement',\n",
    "    2: 'Anger',\n",
    "    3: 'Annoyance',\n",
    "    4: 'Approval',\n",
    "    5: 'Caring',\n",
    "    6: 'Confusion',\n",
    "    7: 'Curiosity',\n",
    "    8: 'Desire',\n",
    "    9: 'Disappointment',\n",
    "    10: 'Disapproval',\n",
    "    11: 'Disgust',\n",
    "    12: 'Embarrassment',\n",
    "    13: 'Excitement',\n",
    "    14: 'Fear',\n",
    "    15: 'Gratitude',\n",
    "    16: 'Grief',\n",
    "    17: 'Joy',\n",
    "    18: 'Love',\n",
    "    19: 'Nervousness',\n",
    "    20: 'Optimism',\n",
    "    21: 'Pride',\n",
    "    22: 'Realization',\n",
    "    23: 'Relief',\n",
    "    24: 'Remorse',\n",
    "    25: 'Sadness',\n",
    "    26: 'Surprise',\n",
    "    27: 'Neutral'\n",
    "    }"
   ]
  },
  {
   "cell_type": "markdown",
   "metadata": {},
   "source": [
    "##### Step 1 and 2: Tokenizing the input, use one of the pretrained encoder transformer from hugging face to process the embedding, make it context aware to increase accuracy."
   ]
  },
  {
   "cell_type": "code",
   "execution_count": 8,
   "metadata": {},
   "outputs": [
    {
     "name": "stderr",
     "output_type": "stream",
     "text": [
      "Some weights of RobertaModel were not initialized from the model checkpoint at roberta-base and are newly initialized: ['roberta.pooler.dense.bias', 'roberta.pooler.dense.weight']\n",
      "You should probably TRAIN this model on a down-stream task to be able to use it for predictions and inference.\n"
     ]
    }
   ],
   "source": [
    "# Choose a model\n",
    "model_name = \"roberta-base\"  # Replace with \"albert-base-v2\", \"distilroberta-base\", or \"huawei-noah/TinyBERT_General_4L_312D\", \"roberta-base\"\n",
    "tokenizer = AutoTokenizer.from_pretrained(model_name)\n",
    "encoder_model = AutoModel.from_pretrained(model_name).to(device)\n",
    "embedding_size = encoder_model.config.hidden_size\n",
    "\n",
    "for param in encoder_model.parameters():\n",
    "    param.requires_grad = False\n"
   ]
  },
  {
   "cell_type": "code",
   "execution_count": 9,
   "metadata": {},
   "outputs": [],
   "source": [
    "def context_aware_embed(texts):\n",
    "    \"\"\" \n",
    "    using encoder-only transformers, process the input texts to context-aware embeddings for downstream tasks\n",
    "    \"\"\"\n",
    "    inputs = tokenizer(texts, padding=True, truncation=True, return_tensors=\"pt\").to(device)\n",
    "    with torch.no_grad():\n",
    "        outputs = encoder_model(**inputs)\n",
    "    return outputs.last_hidden_state"
   ]
  },
  {
   "cell_type": "code",
   "execution_count": 10,
   "metadata": {},
   "outputs": [
    {
     "name": "stdout",
     "output_type": "stream",
     "text": [
      "Shape of context awared embedding: torch.Size([2, 24, 768])\n"
     ]
    }
   ],
   "source": [
    "# Example input text\n",
    "texts = [\"I love this product! something, no matter how long as long as this is\", \"The experience was terrible that I don't want to come any more and the number is depend on the longest sequence\"]\n",
    "\n",
    "context_aware_embedding = context_aware_embed(texts)\n",
    "print(f\"Shape of context awared embedding: {context_aware_embedding.shape}\")  # [2, 25, 768] -> [batch_size, max_length_of_entire_batch, embedding_size]"
   ]
  },
  {
   "cell_type": "markdown",
   "metadata": {},
   "source": [
    "### Step 3: pass the context aware embedding to multiple layers of CNN"
   ]
  },
  {
   "cell_type": "code",
   "execution_count": 11,
   "metadata": {},
   "outputs": [],
   "source": [
    "class CNN_Model(torch.nn.Module):\n",
    "    def __init__(self, embedding_size):\n",
    "        \"\"\"\n",
    "        k1 k2: conv layer size, conv layer size: k1 x embedding_size\n",
    "        n1 n2: channel #\n",
    "        \"\"\"\n",
    "        super().__init__()\n",
    "        k1 = 2\n",
    "        k2 = 4\n",
    "        # channel_size1 = 10\n",
    "        # channel_size2 = 20\n",
    "\n",
    "        kernal_size1 = (k1, embedding_size)\n",
    "        kernal_size2 = (k2, embedding_size)\n",
    "\n",
    "        # self.conv1 = torch.nn.Conv2d(1, channel_size1, kernal_size1, bias=False)\n",
    "        self.conv1_layers = nn.ModuleList([\n",
    "            nn.Conv2d(in_channels=1, out_channels=256, kernel_size=kernal_size1),\n",
    "            # nn.Conv2d(in_channels=256, out_channels=256, kernel_size=(k1, 1)),\n",
    "        ])\n",
    "        self.batchnorm1 = nn.BatchNorm2d(256)\n",
    "\n",
    "\n",
    "        # self.conv2 = torch.nn.Conv2d(1, channel_size2, kernal_size2, bias=False)\n",
    "        self.conv2_layers = nn.ModuleList([\n",
    "            nn.Conv2d(in_channels=1, out_channels=256, kernel_size=kernal_size2),\n",
    "            # nn.Conv2d(in_channels=256, out_channels=256, kernel_size=(k2, 1)),\n",
    "        ])\n",
    "        self.batchnorm2 = nn.BatchNorm2d(256)\n",
    "        # Linear Layers:\n",
    "        self.line1 = nn.Linear(512, 2048)\n",
    "        self.line2 = nn.Linear(2048, 1024)\n",
    "        self.line3 = nn.Linear(1024, 28)\n",
    "        self.dropout = nn.Dropout(0.2)\n",
    "        self.batchnorm3 = nn.BatchNorm1d(2048)\n",
    "        self.batchnorm4 = nn.BatchNorm1d(1024)\n",
    "        self.sigmoid = nn.Sigmoid()\n",
    "\n",
    "    def forward(self, embedded_text):\n",
    "        # embedded_text: [2, 25, 768] batch 2, all sentences max length 25, embedding size 768\n",
    "        sentence_emb = embedded_text.unsqueeze(1)  # for conv2d()\n",
    "\n",
    "        sentence_len = sentence_emb.size(2)\n",
    "        x1, x2 = sentence_emb, sentence_emb\n",
    "\n",
    "        for conv in self.conv1_layers:\n",
    "            x1 = self.dropout(x1)\n",
    "            x1 = F.relu(conv(x1))\n",
    "            x1 = self.batchnorm1(x1)\n",
    "            \n",
    "\n",
    "        for conv in self.conv2_layers:\n",
    "            x2 = self.dropout(x2)\n",
    "            x2 = F.relu(conv(x2))\n",
    "            x2 = self.batchnorm2(x2)\n",
    "\n",
    "        # conv1_out = self.conv1(sentence_emb)\n",
    "        # conv1_out: [2, 10, 24, 1] batch 2, channel 10, output length 24, dummy 1\n",
    "        # conv2_out = self.conv2(sentence_emb)\n",
    "        # conv1_out: [2, 20, 22, 1] batch 2, channel 10, output length 22, dummy 1\n",
    "\n",
    "        # conv1_out = torch.nn.functional.relu(conv1_out)\n",
    "        # conv2_out = torch.nn.functional.relu(conv2_out)\n",
    "\n",
    "        conv1_out = x1.squeeze(3)\n",
    "        conv2_out = x2.squeeze(3)\n",
    "\n",
    "        # maxpool\n",
    "        conv1_out = F.max_pool1d(conv1_out, conv1_out.size(2)).squeeze(2)  # [batch_size, n1]\n",
    "        # conv1_out: [2, 10]\n",
    "        conv2_out = F.max_pool1d(conv2_out, conv2_out.size(2)).squeeze(2)  # [batch_size, n2]\n",
    "\n",
    "        after_maxpool = torch.cat((conv1_out, conv2_out), 1)\n",
    "        after_maxpool = self.dropout(after_maxpool)\n",
    "\n",
    "        line1_out = F.relu(self.line1(after_maxpool))\n",
    "        line1_out = self.batchnorm3(line1_out)\n",
    "        line1_out = self.dropout(line1_out)\n",
    "        \n",
    "        line2_out = F.relu(self.line2(line1_out))\n",
    "        line2_out = self.batchnorm4(line2_out)\n",
    "        line3_out = self.line3(line2_out)\n",
    "        # return torch.sigmoid(self.output_model(after_maxpool))  # apply sigmoid\n",
    "        distribution = line3_out\n",
    "        return self.sigmoid(distribution)"
   ]
  },
  {
   "cell_type": "code",
   "execution_count": 12,
   "metadata": {},
   "outputs": [],
   "source": [
    "CNN = CNN_Model(embedding_size).to(device)\n",
    "context_aware_embedding = context_aware_embedding.to(device)  # Add channel dimension\n",
    "output = CNN(context_aware_embedding)\n",
    "\n",
    "# try:\n",
    "#     # Load the model weights\n",
    "#     CNN.load_state_dict(torch.load(\"cnn_model_weights.pt\"))\n",
    "# except Exception as e:\n",
    "#     print(e)"
   ]
  },
  {
   "cell_type": "code",
   "execution_count": 13,
   "metadata": {},
   "outputs": [
    {
     "name": "stdout",
     "output_type": "stream",
     "text": [
      "tensor([[0.4685, 0.4522, 0.3832, 0.3751, 0.4427, 0.6581, 0.6864, 0.6118, 0.4380,\n",
      "         0.3167, 0.6849, 0.4112, 0.3865, 0.5644, 0.5056, 0.6077, 0.6626, 0.3504,\n",
      "         0.4356, 0.6484, 0.4138, 0.4487, 0.5272, 0.5532, 0.5382, 0.2715, 0.5805,\n",
      "         0.5149],\n",
      "        [0.5161, 0.5630, 0.6056, 0.6235, 0.5438, 0.3396, 0.3209, 0.3981, 0.5559,\n",
      "         0.6937, 0.3228, 0.6034, 0.6037, 0.4411, 0.4962, 0.4008, 0.3235, 0.6474,\n",
      "         0.5656, 0.3517, 0.5972, 0.5438, 0.4806, 0.4505, 0.4686, 0.7193, 0.4058,\n",
      "         0.4701]], device='cuda:0', grad_fn=<SigmoidBackward0>)\n"
     ]
    }
   ],
   "source": [
    "print(output)"
   ]
  },
  {
   "cell_type": "markdown",
   "metadata": {},
   "source": [
    "### Dataset\n",
    "[go emotions](https://huggingface.co/datasets/google-research-datasets/go_emotions)\n",
    "\n",
    "\n",
    "#### Import the dataset"
   ]
  },
  {
   "cell_type": "code",
   "execution_count": 14,
   "metadata": {},
   "outputs": [],
   "source": [
    "from datasets import load_dataset\n",
    "\n",
    "ds = load_dataset(\"google-research-datasets/go_emotions\", \"simplified\")"
   ]
  },
  {
   "cell_type": "markdown",
   "metadata": {},
   "source": [
    "#### Stats of the go_emotions dataset"
   ]
  },
  {
   "cell_type": "code",
   "execution_count": 15,
   "metadata": {},
   "outputs": [
    {
     "name": "stdout",
     "output_type": "stream",
     "text": [
      "Admiration: 4130\n",
      "Amusement: 2328\n",
      "Anger: 1567\n",
      "Annoyance: 2470\n",
      "Approval: 2939\n",
      "Caring: 1087\n",
      "Confusion: 1368\n",
      "Curiosity: 2191\n",
      "Desire: 641\n",
      "Disappointment: 1269\n",
      "Disapproval: 2022\n",
      "Disgust: 793\n",
      "Embarrassment: 303\n",
      "Excitement: 853\n",
      "Fear: 596\n",
      "Gratitude: 2662\n",
      "Grief: 77\n",
      "Joy: 1452\n",
      "Love: 2086\n",
      "Nervousness: 164\n",
      "Optimism: 1581\n",
      "Pride: 111\n",
      "Realization: 1110\n",
      "Relief: 153\n",
      "Remorse: 545\n",
      "Sadness: 1326\n",
      "Surprise: 1060\n",
      "Neutral: 14219\n",
      "On average, each sentence has 51103 / 43410 = 1.1772172310527529 emotions\n"
     ]
    }
   ],
   "source": [
    "from collections import Counter\n",
    "\n",
    "# Initialize a counter to track label frequencies\n",
    "label_counter = Counter()\n",
    "# Iterate over each example in the training dataset\n",
    "for example in ds['train']:\n",
    "    # 'labels' is a list of integers representing emotion labels\n",
    "    labels = example['labels']\n",
    "    # Update the counter with the labels\n",
    "    label_counter.update(labels)\n",
    "\n",
    "emotion_names = list(id_to_class.values())\n",
    "\n",
    "# Print the frequency of each emotion label\n",
    "for idx, emotion in enumerate(emotion_names):\n",
    "    print(f\"{emotion}: {label_counter[idx]}\")\n",
    "\n",
    "print(f\"On average, each sentence has {sum(label_counter.values())} / {len(ds['train'])} = {sum(label_counter.values()) / len(ds['train'])} emotions\")\n"
   ]
  },
  {
   "cell_type": "code",
   "execution_count": 16,
   "metadata": {},
   "outputs": [],
   "source": [
    "class GoEmotionsDataset(Dataset):\n",
    "    def __init__(self, hf_dataset):\n",
    "        self.dataset = hf_dataset\n",
    "\n",
    "    def __len__(self):\n",
    "        return len(self.dataset)\n",
    "\n",
    "    def __getitem__(self, idx):\n",
    "        item = self.dataset[idx]\n",
    "        text = item['text']\n",
    "        labels = item['labels']\n",
    "        return text, labels\n",
    "    \n",
    "\n",
    "# We need to process the lables because label could be different size, ie, some has label [Anger], some have label [Sadness, Nervousness]\n",
    "# Solution: convert all labels to one-hot.\n",
    "def my_collate_fn(batch):\n",
    "    texts, labels = zip(*batch)\n",
    "    # Initialize a tensor for multi-hot encoding\n",
    "    multi_hot_labels = torch.zeros((len(labels), 28), dtype=torch.float32)\n",
    "    for i, label_list in enumerate(labels):\n",
    "        for label in label_list:\n",
    "            multi_hot_labels[i, label] = 1.0\n",
    "    return list(texts), multi_hot_labels\n",
    "\n",
    "\n",
    "train_dataset = GoEmotionsDataset(ds['train'])\n",
    "val_dataset = GoEmotionsDataset(ds['validation'])\n",
    "test_dataset = GoEmotionsDataset(ds['test'])\n",
    "\n",
    "train_dataloader = DataLoader(train_dataset, batch_size=4, shuffle=True, collate_fn=my_collate_fn)\n",
    "# val_dataloader = DataLoader(val_dataset, batch_size=4, shuffle=True, collate_fn=my_collate_fn)\n",
    "# test_dataloader = DataLoader(test_dataset, batch_size=4, shuffle=True, collate_fn=my_collate_fn)\n"
   ]
  },
  {
   "cell_type": "code",
   "execution_count": 17,
   "metadata": {},
   "outputs": [
    {
     "name": "stdout",
     "output_type": "stream",
     "text": [
      "10853\n",
      "torch.Size([4, 19, 768])\n"
     ]
    }
   ],
   "source": [
    "print(len(train_dataloader))\n",
    "for each in train_dataloader:\n",
    "    texts, labels = each\n",
    "    print(context_aware_embed(texts).shape)\n",
    "    break"
   ]
  },
  {
   "cell_type": "markdown",
   "metadata": {},
   "source": [
    "### Train"
   ]
  },
  {
   "cell_type": "code",
   "execution_count": 51,
   "metadata": {},
   "outputs": [],
   "source": [
    "def infer(probs, threshold=0.5):\n",
    "    \"\"\" return a list of detected emotions. If none pass threshold return single emotion that has highest value\n",
    "    probs: return result of CNN\n",
    "    threshold: default 0.5 (sigmoid activation, 0.5 means positive values before activation)\n",
    "\n",
    "    return torch.tensor([0 if not included else 1]) of size probs.shape[-1], where probs should be shape [batch_size, class #]\n",
    "    \"\"\"\n",
    "    if probs.ndim == 1:\n",
    "        # If probs is of shape [class #], add a batch dimension\n",
    "        probs = probs.unsqueeze(0)  # Shape becomes [1, class #]\n",
    "    \n",
    "    # Apply threshold to get binary detections\n",
    "    detected = (probs >= threshold).int()\n",
    "    \n",
    "    # Handle case where no emotions are detected\n",
    "    none_detected = (detected.sum(dim=1) == 0)\n",
    "    if none_detected.any():\n",
    "        # For entries with no detections, set the highest probability to 1\n",
    "        highest_prob_indices = probs.argmax(dim=1)\n",
    "        detected[none_detected, :] = 0  # Reset all detections for the affected rows\n",
    "        detected[none_detected, highest_prob_indices[none_detected]] = 1\n",
    "    \n",
    "    return detected\n",
    "\n",
    "\n",
    "def calculate_acc(predicted, labels, texts):\n",
    "    # Convert tensors to lists of indices for each row\n",
    "    labels = [row.nonzero(as_tuple=True)[0].tolist() for row in labels]\n",
    "    predicted = [row.nonzero(as_tuple=True)[0].tolist() for row in predicted]\n",
    "\n",
    "    # Calculate accuracy\n",
    "    correct = 0\n",
    "    total = 0\n",
    "\n",
    "    for label, pred in zip(labels, predicted):\n",
    "        # Convert to sets for easier comparison\n",
    "        label_set = set(label)\n",
    "        pred_set = set(pred)\n",
    "\n",
    "        # Count matches\n",
    "        correct += len(label_set.intersection(pred_set))\n",
    "        total += len(label_set.union(pred_set))\n",
    "\n",
    "    # Return accuracy as a float (handle edge case of total = 0)\n",
    "    return correct / total if total > 0 else 0.0\n",
    "\n",
    "def test(model, dataset, loss_function, device):\n",
    "    \"\"\" \n",
    "    model: model to be trained\n",
    "    dataset: Dataset type or its descendant, to feed into DataLoader\n",
    "    \"\"\"\n",
    "    test_dataloader = DataLoader(dataset, batch_size=100, shuffle=True, collate_fn=my_collate_fn)\n",
    "    # we first move our model to the configured device\n",
    "    model = model.to(device = device)\n",
    "\n",
    "    # we make sure we are not tracking gradient\n",
    "    # gradient is used in training, we do not need it for test\n",
    "    with torch.no_grad():\n",
    "        risk = 0  ## COMPLETED ##\n",
    "        accuracy = 0  ## COMPLETED ##\n",
    "\n",
    "        # here we are only evaluating the model\n",
    "        ## COMPLETED ##\n",
    "        model.eval()\n",
    "        # loop over test mini-batches\n",
    "        for i, (texts, labels) in enumerate(test_dataloader):\n",
    "\n",
    "            # forward pass\n",
    "            context_aware_emb = context_aware_embed(texts)\n",
    "            labels = labels.to(device)\n",
    "            outputs = model(context_aware_emb)  ## COMPLETED ##\n",
    "            loss = loss_function(outputs, labels)  ## COMPLETED ## using loss_function\n",
    "\n",
    "            # # determine the class of output from sigmoid output\n",
    "            # predicted = outputs >= 0.5\n",
    "            # # TODO: if predicted is none, pick highest\n",
    "            # predicted = predicted.int()\n",
    "            predicted = infer(outputs)\n",
    "\n",
    "            # compute the fraction of correctly predicted labels\n",
    "            # correct_predict = (predicted == labels).sum() / 28  ## COMPLETED ##  # TODO: consider partially correct answer, this is very wrong now: a lot of 0 == 0 in 28 classes counted for correct answer solution: accuracy calculation \n",
    "\n",
    "            risk += loss.item()\n",
    "            accuracy += calculate_acc(predicted, labels, texts)\n",
    "\n",
    "        # average test risk and accuracy over the whole test dataset\n",
    "        test_risk = risk / len(test_dataloader)  ## COMPLETED ##\n",
    "        test_accuracy = accuracy / len(test_dataloader)  ## COMPLETED ##\n",
    "\n",
    "    return test_risk, test_accuracy\n",
    "\n",
    "\n",
    "def train(model, dataset, num_epochs, lr, batch_size, device=device):\n",
    "    \"\"\" \n",
    "    model: model to be trained\n",
    "    dataset: Dataset type or its descendant, to feed into DataLoader\n",
    "    \"\"\"\n",
    "\n",
    "    train_dataloader = DataLoader(dataset, batch_size=batch_size, shuffle=True, collate_fn=my_collate_fn)\n",
    "    # we first move our model to the configured device\n",
    "    model = model.to(device = device)\n",
    "\n",
    "    # set loss function to the corrent one\n",
    "    loss_function = nn.BCELoss()  ## COMPLETED ##\n",
    "\n",
    "    # Set optimizer with optimizer\n",
    "    optimizer = torch.optim.Adam(model.parameters(), lr=lr)  # using Adam optimizer in PyTorch + parameters in the assignment\n",
    "\n",
    "    # Initiate the values\n",
    "    train_risk = []  ## COMPLETED ##\n",
    "    test_risk = []  ## COMPLETED ##\n",
    "    test_accuracy = []  ## COMPLETED ##\n",
    "\n",
    "\n",
    "    for epoch in range(num_epochs):\n",
    "        # training risk in one epoch\n",
    "        risk = 0  # initiate\n",
    "\n",
    "        # tell pytorch that you start training\n",
    "        model.train()\n",
    "        # loop over training data\n",
    "        for i, (texts, labels) in tqdm(enumerate(train_dataloader)):\n",
    "            # process texts with encoder transformer to make them context aware embeddings\n",
    "            context_aware_emb = context_aware_embed(texts)\n",
    "\n",
    "            # reshape labels to have the same form as output\n",
    "            # make sure labels are of torch.float32 type\n",
    "            # labels = labels.to(torch.float32).unsqueeze(dim=1).to(device=device)  ## COMPLETED ##\n",
    "\n",
    "            # move tensors to the configured device\n",
    "            # images = images.to(device = device)\n",
    "            # labels = ## COMPLETE ##\n",
    "            context_aware_emb = context_aware_emb.to(device)\n",
    "            labels = labels.to(device=device)\n",
    "            # forward pass\n",
    "            outputs = model(context_aware_emb)  ## COMPLETED ##\n",
    "            loss = loss_function(outputs, labels)  ## COMPLETED ##\n",
    "\n",
    "            # collect the training loss\n",
    "            risk += loss.item()\n",
    "\n",
    "            # backward pass\n",
    "            optimizer.zero_grad()\n",
    "            ## COMPLETED ##\n",
    "            loss.backward()\n",
    "            # one step of gradient descent\n",
    "            ## COMPLETED ##\n",
    "            optimizer.step()\n",
    "\n",
    "        # first we tell pytorch we are doing evaluation (reassure it, as we have already included it in test())\n",
    "        ## COMPLETED ##\n",
    "        model.eval()\n",
    "        # test out model after update by the optimizer\n",
    "        risk_epoch, accuracy_epoch = test(model, val_dataset, loss_function, device)  ## COMPLETED ## with test()\n",
    "\n",
    "        # collect losses and accuracy\n",
    "        train_risk.append(risk / len(train_dataloader))\n",
    "        test_risk.append(risk_epoch)\n",
    "        test_accuracy.append(accuracy_epoch)\n",
    "\n",
    "        # we can print a message every second epoch\n",
    "        if (epoch+1) % 2 == 0:\n",
    "            print(f\"accuracy_epoch: {accuracy_epoch}\")  ## COMPLETED ## write your message\n",
    "                \n",
    "            \n",
    "\n",
    "    # plot the training and test losses\n",
    "    plt.plot([i+1 for i in range(num_epochs)], train_risk, label='train')\n",
    "    plt.plot([i+1 for i in range(num_epochs)], test_risk, label='test')\n",
    "    plt.legend()\n",
    "    plt.title('Train and Test Risk')\n",
    "    plt.xlabel('Epoch')\n",
    "    plt.ylabel('Risk')\n",
    "    plt.show()\n",
    "\n",
    "    # plot the test accuracy\n",
    "    plt.plot([i+1 for i in range(num_epochs)], test_accuracy)\n",
    "    plt.title('Test Accuracy')\n",
    "    plt.xlabel('Epoch')\n",
    "    plt.ylabel('Accuracy')\n",
    "    plt.show()\n",
    "\n",
    "    print(train_risk, test_risk, test_accuracy)"
   ]
  },
  {
   "cell_type": "code",
   "execution_count": 52,
   "metadata": {},
   "outputs": [
    {
     "name": "stdout",
     "output_type": "stream",
     "text": [
      "tensor([0.0000, 0.0000, 0.0000, 0.1000, 0.0000])\n",
      "tensor([[0, 0, 0, 1, 0]], dtype=torch.int32)\n"
     ]
    }
   ],
   "source": [
    "# test infer()\n",
    "# rand = torch.rand(4)\n",
    "rand = torch.tensor([0.,0,0,0.1,0])\n",
    "print(rand)\n",
    "print(infer(rand))\n"
   ]
  },
  {
   "cell_type": "code",
   "execution_count": 44,
   "metadata": {},
   "outputs": [
    {
     "data": {
      "text/plain": [
       "(0.09184538329189473, 0.38967972750494834)"
      ]
     },
     "execution_count": 44,
     "metadata": {},
     "output_type": "execute_result"
    }
   ],
   "source": [
    "loss_function = nn.BCELoss()\n",
    "test(CNN, test_dataset, loss_function, device)"
   ]
  },
  {
   "cell_type": "markdown",
   "metadata": {},
   "source": [
    "### Train!"
   ]
  },
  {
   "cell_type": "code",
   "execution_count": 58,
   "metadata": {},
   "outputs": [
    {
     "name": "stderr",
     "output_type": "stream",
     "text": [
      "C:\\Users\\20838\\AppData\\Local\\Temp\\ipykernel_49004\\3477977289.py:4: FutureWarning: You are using `torch.load` with `weights_only=False` (the current default value), which uses the default pickle module implicitly. It is possible to construct malicious pickle data which will execute arbitrary code during unpickling (See https://github.com/pytorch/pytorch/blob/main/SECURITY.md#untrusted-models for more details). In a future release, the default value for `weights_only` will be flipped to `True`. This limits the functions that could be executed during unpickling. Arbitrary objects will no longer be allowed to be loaded via this mode unless they are explicitly allowlisted by the user via `torch.serialization.add_safe_globals`. We recommend you start setting `weights_only=True` for any use case where you don't have full control of the loaded file. Please open an issue on GitHub for any issues related to this experimental feature.\n",
      "  CNN.load_state_dict(torch.load(f))\n"
     ]
    }
   ],
   "source": [
    "# CNN = CNN_Model(embedding_size)\n",
    "# train(model=CNN, dataset=train_dataset, num_epochs=10, lr=0.0005, batch_size=128, device=device)\n",
    "with open(f'CNN_gold.pt', \"rb\") as f:\n",
    "    CNN.load_state_dict(torch.load(f))"
   ]
  },
  {
   "cell_type": "code",
   "execution_count": 102,
   "metadata": {},
   "outputs": [
    {
     "name": "stderr",
     "output_type": "stream",
     "text": [
      "340it [00:52,  6.52it/s]\n",
      "340it [00:49,  6.82it/s]\n"
     ]
    },
    {
     "name": "stdout",
     "output_type": "stream",
     "text": [
      "accuracy_epoch: 0.3836911123976973\n"
     ]
    },
    {
     "name": "stderr",
     "output_type": "stream",
     "text": [
      "340it [00:50,  6.76it/s]\n",
      "340it [00:50,  6.78it/s]\n"
     ]
    },
    {
     "name": "stdout",
     "output_type": "stream",
     "text": [
      "accuracy_epoch: 0.3806806155542489\n"
     ]
    },
    {
     "name": "stderr",
     "output_type": "stream",
     "text": [
      "340it [00:50,  6.72it/s]\n"
     ]
    },
    {
     "data": {
      "image/png": "[encoded data removed]",
      "text/plain": [
       "<Figure size 640x480 with 1 Axes>"
      ]
     },
     "metadata": {},
     "output_type": "display_data"
    },
    {
     "data": {
      "image/png": "[encoded data removed]",
      "text/plain": [
       "<Figure size 640x480 with 1 Axes>"
      ]
     },
     "metadata": {},
     "output_type": "display_data"
    },
    {
     "name": "stdout",
     "output_type": "stream",
     "text": [
      "[0.05844338136341642, 0.049860249437830025, 0.04597531077725922, 0.04393148891189519, 0.04215359574950793] [0.156169190664183, 0.14532761709256606, 0.1758333603089506, 0.14939066957343708, 0.14363071037964387] [0.3759006425987738, 0.3836911123976973, 0.3859663381466574, 0.3806806155542489, 0.3851778973477178]\n"
     ]
    }
   ],
   "source": [
    "# keep training the loaded model to see if a better model can be trained. Lower the lr\n",
    "train(model=CNN, dataset=train_dataset, num_epochs=5, lr=0.0002, batch_size=128, device=device)"
   ]
  },
  {
   "cell_type": "code",
   "execution_count": 100,
   "metadata": {},
   "outputs": [
    {
     "name": "stdout",
     "output_type": "stream",
     "text": [
      "Sentence: For some reason I'm imagining a hauty, French snorting laugh. label: [1]\n"
     ]
    }
   ],
   "source": [
    "sample = ds['train'][8181]\n",
    "sample_input1 = sample['text']\n",
    "print(f'Sentence: {sample_input1} label: {sample[\"labels\"]}')\n",
    "\n",
    "result = CNN(context_aware_embed(sample_input1))\n",
    "\n",
    "# Save the model weights\n",
    "# torch.save(CNN.state_dict(), \"cnn_model2_weights.pt\")"
   ]
  },
  {
   "cell_type": "code",
   "execution_count": 101,
   "metadata": {},
   "outputs": [
    {
     "name": "stdout",
     "output_type": "stream",
     "text": [
      "[1]\n"
     ]
    }
   ],
   "source": [
    "predicted = infer(result).nonzero(as_tuple=True)[1].tolist()\n",
    "print(predicted)"
   ]
  },
  {
   "cell_type": "code",
   "execution_count": 103,
   "metadata": {},
   "outputs": [
    {
     "data": {
      "text/plain": [
       "(0.05125421250517341, 0.8854398472425051)"
      ]
     },
     "execution_count": 103,
     "metadata": {},
     "output_type": "execute_result"
    }
   ],
   "source": [
    "test(CNN, train_dataset, loss_function, device)"
   ]
  },
  {
   "cell_type": "code",
   "execution_count": 104,
   "metadata": {},
   "outputs": [],
   "source": [
    "torch.save(CNN.state_dict(), \"CNN_8854_3851.pt\")"
   ]
  }
 ],
 "metadata": {
  "kernelspec": {
   "display_name": "ece1786",
   "language": "python",
   "name": "python3"
  },
  "language_info": {
   "codemirror_mode": {
    "name": "ipython",
    "version": 3
   },
   "file_extension": ".py",
   "mimetype": "text/x-python",
   "name": "python",
   "nbconvert_exporter": "python",
   "pygments_lexer": "ipython3",
   "version": "3.10.15"
  }
 },
 "nbformat": 4,
 "nbformat_minor": 2
}
