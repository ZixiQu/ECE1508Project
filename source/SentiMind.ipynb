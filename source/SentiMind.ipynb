{
 "cells": [
  {
   "cell_type": "markdown",
   "metadata": {},
   "source": [
    "# SentiMind, Sentence Sentiment Clasfier\n",
    "### Input and Output\n",
    "The input is a sentence or sentences. The output is a list of 0-27 represent one or more sentiment including admiration, gratitude, surprise, or neutural.\n",
    "\n",
    "### Architecture\n",
    "the model or architecture we plan is \n",
    "1. Tokenizing the input\n",
    "2. use one of the pretrained encoder transformer from hugging face to process the embedding, make it context aware to increase accuracy.\n",
    "3. pass the context aware embedding to multiple layer of CNN, maybe 6 layers, each of a configuration of VGG level. \n",
    "4. connect the output of CNN to flattened and connect to FNN to make final classfication.\n",
    "5. softmax the result, include all class with prob greater than a threshold. For example, if a class is more than 0.3, include as output. anger 0.4, remorese 0.35, rest 0.25, output [anger, remorses]."
   ]
  },
  {
   "cell_type": "code",
   "execution_count": 2,
   "metadata": {},
   "outputs": [],
   "source": [
    "from transformers import AutoTokenizer, AutoModel\n",
    "import torch\n",
    "import torch.nn as nn\n",
    "import torch.nn.functional as F\n",
    "from torch.utils.data import DataLoader\n",
    "from torch.utils.data import Dataset\n",
    "\n",
    "# for plotting\n",
    "import matplotlib.pyplot as plt\n",
    "\n",
    "# for algebric computations\n",
    "import numpy as np\n",
    "from pprint import pprint\n",
    "from tqdm import tqdm\n",
    "\n",
    "# We may choose a GPU if we have one on our machine\n",
    "if torch.backends.cuda.is_built():\n",
    "  # if we have cuda\n",
    "  # usually on Windows machines with GPU\n",
    "  device = \"cuda\"\n",
    "elif torch.backends.mps.is_built():\n",
    "  # if we have MPS\n",
    "  # usually on MAC\n",
    "  device = \"mps\"\n",
    "else:\n",
    "  # if not we should use our CPU\n",
    "  device = \"cpu\"\n",
    "\n",
    "\n",
    "id_to_class = {\n",
    "    0: 'Admiration',\n",
    "    1: 'Amusement',\n",
    "    2: 'Anger',\n",
    "    3: 'Annoyance',\n",
    "    4: 'Approval',\n",
    "    5: 'Caring',\n",
    "    6: 'Confusion',\n",
    "    7: 'Curiosity',\n",
    "    8: 'Desire',\n",
    "    9: 'Disappointment',\n",
    "    10: 'Disapproval',\n",
    "    11: 'Disgust',\n",
    "    12: 'Embarrassment',\n",
    "    13: 'Excitement',\n",
    "    14: 'Fear',\n",
    "    15: 'Gratitude',\n",
    "    16: 'Grief',\n",
    "    17: 'Joy',\n",
    "    18: 'Love',\n",
    "    19: 'Nervousness',\n",
    "    20: 'Optimism',\n",
    "    21: 'Pride',\n",
    "    22: 'Realization',\n",
    "    23: 'Relief',\n",
    "    24: 'Remorse',\n",
    "    25: 'Sadness',\n",
    "    26: 'Surprise',\n",
    "    27: 'Neutral'\n",
    "    }"
   ]
  },
  {
   "cell_type": "markdown",
   "metadata": {},
   "source": [
    "##### Step 1 and 2: Tokenizing the input, use one of the pretrained encoder transformer from hugging face to process the embedding, make it context aware to increase accuracy."
   ]
  },
  {
   "cell_type": "code",
   "execution_count": 3,
   "metadata": {},
   "outputs": [],
   "source": [
    "# Choose a model\n",
    "model_name = \"distilbert-base-uncased\"  # Replace with \"albert-base-v2\", \"distilroberta-base\", or \"huawei-noah/TinyBERT_General_4L_312D\"\n",
    "tokenizer = AutoTokenizer.from_pretrained(model_name)\n",
    "encoder_model = AutoModel.from_pretrained(model_name).to(device)\n",
    "embedding_size = encoder_model.config.hidden_size\n",
    "\n",
    "for param in encoder_model.parameters():\n",
    "    param.requires_grad = False\n"
   ]
  },
  {
   "cell_type": "code",
   "execution_count": null,
   "metadata": {},
   "outputs": [],
   "source": [
    "def context_aware_embed(texts):\n",
    "    \"\"\" \n",
    "    using encoder-only transformers, process the input texts to context-aware embeddings for downstream tasks\n",
    "    \"\"\"\n",
    "    inputs = tokenizer(texts, padding=True, truncation=True, return_tensors=\"pt\").to(device)\n",
    "    with torch.no_grad():\n",
    "        outputs = encoder_model(**inputs)\n",
    "    return outputs.last_hidden_state"
   ]
  },
  {
   "cell_type": "code",
   "execution_count": null,
   "metadata": {},
   "outputs": [
    {
     "name": "stdout",
     "output_type": "stream",
     "text": [
      "Shape of context awared embedding: torch.Size([2, 25, 768])\n"
     ]
    }
   ],
   "source": [
    "# Example input text\n",
    "texts = [\"I love this product! something, no matter how long as long as this is\", \"The experience was terrible that I don't want to come any more and the number is depend on the longest sequence\"]\n",
    "\n",
    "context_aware_embedding = context_aware_embed(texts)\n",
    "print(f\"Shape of context awared embedding: {context_aware_embedding.shape}\")  # [2, 25, 768] -> [batch_size, max_length_of_entire_batch, embedding_size]"
   ]
  },
  {
   "cell_type": "markdown",
   "metadata": {},
   "source": [
    "### Step 3: pass the context aware embedding to multiple layers of CNN"
   ]
  },
  {
   "cell_type": "code",
   "execution_count": null,
   "metadata": {},
   "outputs": [],
   "source": [
    "class CNN_Model(torch.nn.Module):\n",
    "    def __init__(self, embedding_size):\n",
    "        \"\"\"\n",
    "        k1 k2: conv layer size, conv layer size: k1 x embedding_size\n",
    "        n1 n2: channel #\n",
    "        \"\"\"\n",
    "        super().__init__()\n",
    "        k1 = 2\n",
    "        k2 = 4\n",
    "        channel_size1 = 10\n",
    "        channel_size2 = 20\n",
    "\n",
    "        kernal_size1 = (k1, embedding_size)\n",
    "        kernal_size2 = (k2, embedding_size)\n",
    "\n",
    "        self.conv1 = torch.nn.Conv2d(1, channel_size1, kernal_size1, bias=False)\n",
    "        self.conv2 = torch.nn.Conv2d(1, channel_size2, kernal_size2, bias=False)\n",
    "\n",
    "        self.output_model = torch.nn.Linear(channel_size1 + channel_size2 , 28)\n",
    "\n",
    "\n",
    "    def forward(self, embedded_text):\n",
    "        # embedded_text: [2, 7, 768] batch 2, all sentences max length 8, embedding size 768\n",
    "        sentence_emb = embedded_text.unsqueeze(1)  # for conv2d()\n",
    "\n",
    "        conv1_out = self.conv1(sentence_emb)\n",
    "        conv2_out = self.conv2(sentence_emb)\n",
    "\n",
    "        conv1_out = torch.nn.functional.relu(conv1_out)\n",
    "        conv2_out = torch.nn.functional.relu(conv2_out)\n",
    "\n",
    "        conv1_out = conv1_out.squeeze(3)\n",
    "        conv2_out = conv2_out.squeeze(3)\n",
    "\n",
    "        # maxpool\n",
    "        conv1_out = torch.nn.functional.max_pool1d(conv1_out, conv1_out.size(2)).squeeze(2)  # [batch_size, n1]\n",
    "        conv2_out = torch.nn.functional.max_pool1d(conv2_out, conv2_out.size(2)).squeeze(2)  # [batch_size, n2]\n",
    "\n",
    "\n",
    "        after_maxpool = torch.cat((conv1_out, conv2_out), 1)\n",
    "        # return torch.sigmoid(self.output_model(after_maxpool))  # apply sigmoid\n",
    "        distribution = self.output_model(after_maxpool)\n",
    "        return F.softmax(distribution, dim=1)"
   ]
  },
  {
   "cell_type": "code",
   "execution_count": 24,
   "metadata": {},
   "outputs": [],
   "source": [
    "CNN = CNN_Model(embedding_size).to(device)\n",
    "\n",
    "output = CNN(context_aware_embedding)"
   ]
  },
  {
   "cell_type": "code",
   "execution_count": null,
   "metadata": {},
   "outputs": [
    {
     "name": "stdout",
     "output_type": "stream",
     "text": [
      "tensor([[0.0310, 0.0419, 0.0284, 0.0549, 0.0342, 0.0430, 0.0340, 0.0345, 0.0514,\n",
      "         0.0405, 0.0310, 0.0464, 0.0306, 0.0473, 0.0189, 0.0424, 0.0261, 0.0245,\n",
      "         0.0389, 0.0274, 0.0265, 0.0455, 0.0240, 0.0516, 0.0292, 0.0372, 0.0306,\n",
      "         0.0281],\n",
      "        [0.0246, 0.0444, 0.0270, 0.0592, 0.0310, 0.0465, 0.0345, 0.0310, 0.0578,\n",
      "         0.0407, 0.0301, 0.0452, 0.0290, 0.0552, 0.0183, 0.0449, 0.0301, 0.0219,\n",
      "         0.0386, 0.0224, 0.0256, 0.0456, 0.0212, 0.0489, 0.0249, 0.0359, 0.0332,\n",
      "         0.0324]], device='cuda:0', grad_fn=<SoftmaxBackward0>)\n"
     ]
    }
   ],
   "source": [
    "print(output)"
   ]
  },
  {
   "cell_type": "markdown",
   "metadata": {},
   "source": [
    "### Dataset\n",
    "[go emotions](https://huggingface.co/datasets/google-research-datasets/go_emotions)\n",
    "\n",
    "\n",
    "#### Import the dataset"
   ]
  },
  {
   "cell_type": "code",
   "execution_count": 13,
   "metadata": {},
   "outputs": [
    {
     "name": "stderr",
     "output_type": "stream",
     "text": [
      "e:\\anaconda3\\envs\\ece1786\\lib\\site-packages\\pandas\\core\\computation\\expressions.py:21: UserWarning: Pandas requires version '2.8.4' or newer of 'numexpr' (version '2.7.3' currently installed).\n",
      "  from pandas.core.computation.check import NUMEXPR_INSTALLED\n"
     ]
    }
   ],
   "source": [
    "from datasets import load_dataset\n",
    "\n",
    "ds = load_dataset(\"google-research-datasets/go_emotions\", \"simplified\")"
   ]
  },
  {
   "cell_type": "markdown",
   "metadata": {},
   "source": [
    "#### Stats of the go_emotions dataset"
   ]
  },
  {
   "cell_type": "code",
   "execution_count": 14,
   "metadata": {},
   "outputs": [
    {
     "name": "stdout",
     "output_type": "stream",
     "text": [
      "Admiration: 4130\n",
      "Amusement: 2328\n",
      "Anger: 1567\n",
      "Annoyance: 2470\n",
      "Approval: 2939\n",
      "Caring: 1087\n",
      "Confusion: 1368\n",
      "Curiosity: 2191\n",
      "Desire: 641\n",
      "Disappointment: 1269\n",
      "Disapproval: 2022\n",
      "Disgust: 793\n",
      "Embarrassment: 303\n",
      "Excitement: 853\n",
      "Fear: 596\n",
      "Gratitude: 2662\n",
      "Grief: 77\n",
      "Joy: 1452\n",
      "Love: 2086\n",
      "Nervousness: 164\n",
      "Optimism: 1581\n",
      "Pride: 111\n",
      "Realization: 1110\n",
      "Relief: 153\n",
      "Remorse: 545\n",
      "Sadness: 1326\n",
      "Surprise: 1060\n",
      "Neutral: 14219\n",
      "On average, each sentence has 51103 / 43410 = 1.1772172310527529 emotions\n"
     ]
    }
   ],
   "source": [
    "from collections import Counter\n",
    "\n",
    "# Initialize a counter to track label frequencies\n",
    "label_counter = Counter()\n",
    "# Iterate over each example in the training dataset\n",
    "for example in ds['train']:\n",
    "    # 'labels' is a list of integers representing emotion labels\n",
    "    labels = example['labels']\n",
    "    # Update the counter with the labels\n",
    "    label_counter.update(labels)\n",
    "\n",
    "emotion_names = list(id_to_class.values())\n",
    "\n",
    "# Print the frequency of each emotion label\n",
    "for idx, emotion in enumerate(emotion_names):\n",
    "    print(f\"{emotion}: {label_counter[idx]}\")\n",
    "\n",
    "print(f\"On average, each sentence has {sum(label_counter.values())} / {len(ds['train'])} = {sum(label_counter.values()) / len(ds['train'])} emotions\")\n"
   ]
  },
  {
   "cell_type": "code",
   "execution_count": 15,
   "metadata": {},
   "outputs": [],
   "source": [
    "class GoEmotionsDataset(Dataset):\n",
    "    def __init__(self, hf_dataset):\n",
    "        self.dataset = hf_dataset\n",
    "\n",
    "    def __len__(self):\n",
    "        return len(self.dataset)\n",
    "\n",
    "    def __getitem__(self, idx):\n",
    "        item = self.dataset[idx]\n",
    "        text = item['text']\n",
    "        labels = item['labels']\n",
    "        return text, labels\n",
    "    \n",
    "\n",
    "# We need to process the lables because label could be different size, ie, some has label [Anger], some have label [Sadness, Nervousness]\n",
    "# Solution: convert all labels to one-hot.\n",
    "def my_collate_fn(batch):\n",
    "    texts, labels = zip(*batch)\n",
    "    # Initialize a tensor for multi-hot encoding\n",
    "    multi_hot_labels = torch.zeros((len(labels), 28), dtype=torch.float32)\n",
    "    for i, label_list in enumerate(labels):\n",
    "        for label in label_list:\n",
    "            multi_hot_labels[i, label - 1] = 1.0\n",
    "    return list(texts), multi_hot_labels\n",
    "\n",
    "\n",
    "train_dataset = GoEmotionsDataset(ds['train'])\n",
    "val_dataset = GoEmotionsDataset(ds['validation'])\n",
    "test_dataset = GoEmotionsDataset(ds['test'])\n",
    "\n",
    "train_dataloader = DataLoader(train_dataset, batch_size=4, shuffle=True, collate_fn=my_collate_fn)\n",
    "# val_dataloader = DataLoader(val_dataset, batch_size=4, shuffle=True, collate_fn=my_collate_fn)\n",
    "# test_dataloader = DataLoader(test_dataset, batch_size=4, shuffle=True, collate_fn=my_collate_fn)\n"
   ]
  },
  {
   "cell_type": "code",
   "execution_count": 30,
   "metadata": {},
   "outputs": [
    {
     "name": "stdout",
     "output_type": "stream",
     "text": [
      "10853\n",
      "torch.Size([4, 21, 768])\n"
     ]
    }
   ],
   "source": [
    "print(len(train_dataloader))\n",
    "for each in train_dataloader:\n",
    "    texts, labels = each\n",
    "    print(context_aware_embed(texts).shape)\n",
    "    break"
   ]
  },
  {
   "cell_type": "markdown",
   "metadata": {},
   "source": [
    "### Train"
   ]
  },
  {
   "cell_type": "code",
   "execution_count": null,
   "metadata": {},
   "outputs": [],
   "source": [
    "def infer(model):\n",
    "    # TODO: implement this\n",
    "    # top1 = p1 top 2 = p2\n",
    "    # if p2 > p1 * 0.8, class include both p1 and p2, else p1 only\n",
    "    pass\n",
    "\n",
    "\n",
    "def test(model, dataset, loss_function, device):\n",
    "    \"\"\" \n",
    "    model: model to be trained\n",
    "    dataset: Dataset type or its descendant, to feed into DataLoader\n",
    "    \"\"\"\n",
    "    test_dataloader = DataLoader(dataset, batch_size=100, shuffle=True, collate_fn=my_collate_fn)\n",
    "    # we first move our model to the configured device\n",
    "    model = model.to(device = device)\n",
    "\n",
    "    # we make sure we are not tracking gradient\n",
    "    # gradient is used in training, we do not need it for test\n",
    "    with torch.no_grad():\n",
    "        risk = 0  ## COMPLETED ##\n",
    "        accuracy = 0  ## COMPLETED ##\n",
    "\n",
    "        # here we are only evaluating the model\n",
    "        ## COMPLETED ##\n",
    "        model.eval()\n",
    "        # loop over test mini-batches\n",
    "        for i, (texts, labels) in enumerate(test_dataloader):\n",
    "            # reshape labels to have the same form as output\n",
    "            # make sure labels are of torch.float32 type\n",
    "            # labels = labels.to(torch.float32).unsqueeze(dim=1).to(device=device)  ## COMPLETED ##\n",
    "\n",
    "            # move tensors to the configured device\n",
    "            # images = images.to(device=device)\n",
    "            # labels = ## COMPLETE ##\n",
    "\n",
    "            # forward pass\n",
    "            context_aware_emb = context_aware_embed(texts)\n",
    "            labels = labels.to(device)\n",
    "            outputs = model(context_aware_emb)  ## COMPLETED ##\n",
    "            loss = loss_function(outputs, labels)  ## COMPLETED ## using loss_function\n",
    "\n",
    "            # determine the class of output from sigmoid output\n",
    "            predicted = outputs >= 0.2  \n",
    "            # TODO: move to infer()\n",
    "            # TODO: find appropriate threshold \n",
    "            # TODO: if predicted is none, pick highest\n",
    "            predicted = predicted.int()\n",
    "\n",
    "            # compute the fraction of correctly predicted labels\n",
    "            correct_predict = (predicted == labels).sum() / 28  ## COMPLETED ##  # TODO: consider partially correct answer, this is very wrong now: a lot of 0 == 0 in 28 classes counted for correct answer solution: accuracy calculation \n",
    "\n",
    "            risk += loss.item()\n",
    "            accuracy += correct_predict.item()\n",
    "\n",
    "        # average test risk and accuracy over the whole test dataset\n",
    "        test_risk = risk / len(test_dataloader)  ## COMPLETED ##\n",
    "        test_accuracy = accuracy / len(test_dataloader)  ## COMPLETED ##\n",
    "\n",
    "    return test_risk, test_accuracy\n",
    "\n",
    "\n",
    "def train(model, dataset, num_epochs, lr, batch_size, device=device):\n",
    "    \"\"\" \n",
    "    model: model to be trained\n",
    "    dataset: Dataset type or its descendant, to feed into DataLoader\n",
    "    \"\"\"\n",
    "\n",
    "    train_dataloader = DataLoader(dataset, batch_size=batch_size, shuffle=True, collate_fn=my_collate_fn)\n",
    "    # we first move our model to the configured device\n",
    "    model = model.to(device = device)\n",
    "\n",
    "    # set loss function to the corrent one\n",
    "    loss_function = nn.BCELoss()  ## COMPLETED ##\n",
    "\n",
    "    # Set optimizer with optimizer\n",
    "    optimizer = torch.optim.Adam(model.parameters(), lr=lr)  # using Adam optimizer in PyTorch + parameters in the assignment\n",
    "\n",
    "    # Initiate the values\n",
    "    train_risk = []  ## COMPLETED ##\n",
    "    test_risk = []  ## COMPLETED ##\n",
    "    test_accuracy = []  ## COMPLETED ##\n",
    "\n",
    "\n",
    "    for epoch in range(num_epochs):\n",
    "        # training risk in one epoch\n",
    "        risk = 0  # initiate\n",
    "\n",
    "        # tell pytorch that you start training\n",
    "        model.train()\n",
    "        # loop over training data\n",
    "        for i, (texts, labels) in tqdm(enumerate(train_dataloader)):\n",
    "            # process texts with encoder transformer to make them context aware embeddings\n",
    "            context_aware_emb = context_aware_embed(texts)\n",
    "\n",
    "            # reshape labels to have the same form as output\n",
    "            # make sure labels are of torch.float32 type\n",
    "            # labels = labels.to(torch.float32).unsqueeze(dim=1).to(device=device)  ## COMPLETED ##\n",
    "\n",
    "            # move tensors to the configured device\n",
    "            # images = images.to(device = device)\n",
    "            # labels = ## COMPLETE ##\n",
    "            context_aware_emb = context_aware_emb.to(device)\n",
    "            labels = labels.to(device=device)\n",
    "            # forward pass\n",
    "            outputs = model(context_aware_emb)  ## COMPLETED ##\n",
    "            loss = loss_function(outputs, labels)  ## COMPLETED ##\n",
    "\n",
    "            # collect the training loss\n",
    "            risk += loss.item()\n",
    "\n",
    "            # backward pass\n",
    "            optimizer.zero_grad()\n",
    "            ## COMPLETED ##\n",
    "            loss.backward()\n",
    "            # one step of gradient descent\n",
    "            ## COMPLETED ##\n",
    "            optimizer.step()\n",
    "\n",
    "        # first we tell pytorch we are doing evaluation (reassure it, as we have already included it in test())\n",
    "        ## COMPLETED ##\n",
    "        model.eval()\n",
    "        # test out model after update by the optimizer\n",
    "        risk_epoch, accuracy_epoch = test(model, val_dataset, loss_function, device)  ## COMPLETED ## with test()\n",
    "\n",
    "        # collect losses and accuracy\n",
    "        train_risk.append(risk / len(train_dataloader))\n",
    "        test_risk.append(risk_epoch)\n",
    "        test_accuracy.append(accuracy_epoch)\n",
    "\n",
    "        # we can print a message every second epoch\n",
    "        if (epoch+1) % 2 == 0:\n",
    "            print(f\"accuracy_epoch: {accuracy_epoch}\")  ## COMPLETED ## write your message\n",
    "                \n",
    "            \n",
    "\n",
    "    # plot the training and test losses\n",
    "    plt.plot([i+1 for i in range(num_epochs)], train_risk, label='train')\n",
    "    plt.plot([i+1 for i in range(num_epochs)], test_risk, label='test')\n",
    "    plt.legend()\n",
    "    plt.title('Train and Test Risk')\n",
    "    plt.xlabel('Epoch')\n",
    "    plt.ylabel('Risk')\n",
    "    plt.show()\n",
    "\n",
    "    # plot the test accuracy\n",
    "    plt.plot([i+1 for i in range(num_epochs)], test_accuracy)\n",
    "    plt.title('Test Accuracy')\n",
    "    plt.xlabel('Epoch')\n",
    "    plt.ylabel('Accuracy')\n",
    "    plt.show()\n",
    "\n",
    "    print(train_risk, test_risk, test_accuracy)"
   ]
  },
  {
   "cell_type": "code",
   "execution_count": 32,
   "metadata": {},
   "outputs": [
    {
     "data": {
      "text/plain": [
       "(0.176732076569037, 2647.7636363636366)"
      ]
     },
     "execution_count": 32,
     "metadata": {},
     "output_type": "execute_result"
    }
   ],
   "source": [
    "loss_function = nn.BCELoss()\n",
    "test(CNN, test_dataset, loss_function, device)"
   ]
  },
  {
   "cell_type": "markdown",
   "metadata": {},
   "source": [
    "### Train!"
   ]
  },
  {
   "cell_type": "code",
   "execution_count": null,
   "metadata": {},
   "outputs": [
    {
     "name": "stderr",
     "output_type": "stream",
     "text": [
      "2714it [00:32, 82.75it/s]\n",
      "2714it [00:32, 84.08it/s]\n"
     ]
    },
    {
     "name": "stdout",
     "output_type": "stream",
     "text": [
      "accuracy_epoch: 2655.927272727273\n"
     ]
    },
    {
     "name": "stderr",
     "output_type": "stream",
     "text": [
      "2714it [00:32, 82.92it/s]\n",
      "2714it [00:33, 81.83it/s]\n"
     ]
    },
    {
     "name": "stdout",
     "output_type": "stream",
     "text": [
      "accuracy_epoch: 2656.4545454545455\n"
     ]
    },
    {
     "name": "stderr",
     "output_type": "stream",
     "text": [
      "2714it [00:32, 82.69it/s]\n",
      "2714it [00:34, 79.54it/s]\n"
     ]
    },
    {
     "name": "stdout",
     "output_type": "stream",
     "text": [
      "accuracy_epoch: 2656.309090909091\n"
     ]
    },
    {
     "name": "stderr",
     "output_type": "stream",
     "text": [
      "2714it [00:42, 63.71it/s]\n",
      "2714it [00:45, 60.01it/s]\n"
     ]
    },
    {
     "name": "stdout",
     "output_type": "stream",
     "text": [
      "accuracy_epoch: 2654.109090909091\n"
     ]
    },
    {
     "name": "stderr",
     "output_type": "stream",
     "text": [
      "2714it [00:34, 78.49it/s]\n",
      "2714it [00:34, 79.49it/s]\n"
     ]
    },
    {
     "name": "stdout",
     "output_type": "stream",
     "text": [
      "accuracy_epoch: 2653.5272727272727\n"
     ]
    },
    {
     "data": {
      "image/png": "[encoded data removed]",
      "text/plain": [
       "<Figure size 640x480 with 1 Axes>"
      ]
     },
     "metadata": {},
     "output_type": "display_data"
    },
    {
     "data": {
      "image/png": "[encoded data removed]",
      "text/plain": [
       "<Figure size 640x480 with 1 Axes>"
      ]
     },
     "metadata": {},
     "output_type": "display_data"
    },
    {
     "name": "stdout",
     "output_type": "stream",
     "text": [
      "[0.10734849710219217, 0.09412909471261738, 0.09052360189979787, 0.08823164073680373, 0.08622729424565657, 0.08452222672515523, 0.08314649570752526, 0.08180844530671857, 0.08066882856544341, 0.07936293341208445] [0.09868575402281501, 0.09271997511386872, 0.0934327941049229, 0.09185915711251172, 0.09375683719461614, 0.0920294699343768, 0.0918289225209843, 0.09221113459630446, 0.09351089217446067, 0.09419620578939264] [2651.672727272727, 2655.927272727273, 2658.5454545454545, 2656.4545454545455, 2653.4545454545455, 2656.309090909091, 2655.981818181818, 2654.109090909091, 2653.6, 2653.5272727272727]\n"
     ]
    }
   ],
   "source": [
    "# CNN = CNN_Model(embedding_size)\n",
    "train(model=CNN, dataset=train_dataset, num_epochs=10, lr=0.001, batch_size=16, device=device)"
   ]
  },
  {
   "cell_type": "code",
   "execution_count": 43,
   "metadata": {},
   "outputs": [],
   "source": [
    "sample_input1 = \"I regret to hear this message\"\n",
    "\n",
    "result = CNN(context_aware_embed(sample_input1))"
   ]
  },
  {
   "cell_type": "code",
   "execution_count": 44,
   "metadata": {},
   "outputs": [
    {
     "name": "stdout",
     "output_type": "stream",
     "text": [
      "Highest value: 0.05341275781393051 at index 3\n",
      "Second highest value: 0.052338168025016785 at index 8\n"
     ]
    }
   ],
   "source": [
    "# Use torch.topk to find the top 2 values and their indices\n",
    "top_values, top_indices = torch.topk(result, k=2, dim=1)\n",
    "\n",
    "# Extract the highest and second-highest values and their indices\n",
    "highest_value = top_values[0, 0].item()\n",
    "highest_index = top_indices[0, 0].item()\n",
    "second_highest_value = top_values[0, 1].item()\n",
    "second_highest_index = top_indices[0, 1].item()\n",
    "\n",
    "print(f\"Highest value: {highest_value} at index {highest_index}\")\n",
    "print(f\"Second highest value: {second_highest_value} at index {second_highest_index}\")"
   ]
  },
  {
   "cell_type": "code",
   "execution_count": null,
   "metadata": {},
   "outputs": [],
   "source": []
  }
 ],
 "metadata": {
  "kernelspec": {
   "display_name": "ece1786",
   "language": "python",
   "name": "python3"
  },
  "language_info": {
   "codemirror_mode": {
    "name": "ipython",
    "version": 3
   },
   "file_extension": ".py",
   "mimetype": "text/x-python",
   "name": "python",
   "nbconvert_exporter": "python",
   "pygments_lexer": "ipython3",
   "version": "3.10.15"
  }
 },
 "nbformat": 4,
 "nbformat_minor": 2
}
