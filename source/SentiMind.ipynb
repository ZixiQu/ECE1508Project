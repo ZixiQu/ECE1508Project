{
 "cells": [
  {
   "cell_type": "markdown",
   "metadata": {},
   "source": [
    "# SentiMind, Sentence Sentiment Clasfier\n",
    "### Input and Output\n",
    "The input is a sentence or sentences. The output is a list of 0-26 represent one or more sentiment including admiration, gratitude, surprise, or neutural.\n",
    "\n",
    "### Architecture\n",
    "the model or architecture we plan is \n",
    "1. Tokenizing the input\n",
    "2. use one of the pretrained encoder transformer from hugging face to process the embedding, make it context aware to increase accuracy.\n",
    "3. pass the context aware embedding to multiple layer of CNN, maybe 6 layers, each of a configuration of VGG level. \n",
    "4. connect the output of CNN to flattened and connect to FNN to make final classfication.\n",
    "5. softmax the result, include all class with prob greater than a threshold. For example, if a class is more than 0.3, include as output. anger 0.4, remorese 0.35, rest 0.25, output [anger, remorses]."
   ]
  },
  {
   "cell_type": "code",
   "execution_count": 131,
   "metadata": {},
   "outputs": [],
   "source": [
    "from transformers import AutoTokenizer, AutoModel\n",
    "import torch\n",
    "import torch.nn as nn\n",
    "import torch.nn.functional as F\n",
    "from torch.utils.data import DataLoader\n",
    "from torch.utils.data import Dataset\n",
    "\n",
    "# for plotting\n",
    "import matplotlib.pyplot as plt\n",
    "\n",
    "# for algebric computations\n",
    "import numpy as np\n",
    "from pprint import pprint\n",
    "from tqdm import tqdm\n",
    "\n",
    "# We may choose a GPU if we have one on our machine\n",
    "if torch.backends.cuda.is_built():\n",
    "  # if we have cuda\n",
    "  # usually on Windows machines with GPU\n",
    "  device = \"cuda\"\n",
    "elif torch.backends.mps.is_built():\n",
    "  # if we have MPS\n",
    "  # usually on MAC\n",
    "  device = \"mps\"\n",
    "else:\n",
    "  # if not we should use our CPU\n",
    "  device = \"cpu\"\n",
    "\n",
    "\n",
    "id_to_class = {\n",
    "    0: 'Admiration',\n",
    "    1: 'Amusement',\n",
    "    2: 'Anger',\n",
    "    3: 'Annoyance',\n",
    "    4: 'Approval',\n",
    "    5: 'Caring',\n",
    "    6: 'Confusion',\n",
    "    7: 'Curiosity',\n",
    "    8: 'Desire',\n",
    "    9: 'Disappointment',\n",
    "    10: 'Disapproval',\n",
    "    11: 'Disgust',\n",
    "    12: 'Embarrassment',\n",
    "    13: 'Excitement',\n",
    "    14: 'Fear',\n",
    "    15: 'Gratitude',\n",
    "    16: 'Grief',\n",
    "    17: 'Joy',\n",
    "    18: 'Love',\n",
    "    19: 'Nervousness',\n",
    "    20: 'Optimism',\n",
    "    21: 'Pride',\n",
    "    22: 'Realization',\n",
    "    23: 'Relief',\n",
    "    24: 'Remorse',\n",
    "    25: 'Sadness',\n",
    "    26: 'Surprise',\n",
    "    27: 'Neutral'\n",
    "    }"
   ]
  },
  {
   "cell_type": "markdown",
   "metadata": {},
   "source": [
    "##### Step 1 and 2: Tokenizing the input, use one of the pretrained encoder transformer from hugging face to process the embedding, make it context aware to increase accuracy."
   ]
  },
  {
   "cell_type": "code",
   "execution_count": 137,
   "metadata": {},
   "outputs": [],
   "source": [
    "# Choose a model\n",
    "model_name = \"distilbert-base-uncased\"  # Replace with \"albert-base-v2\", \"distilroberta-base\", or \"huawei-noah/TinyBERT_General_4L_312D\"\n",
    "tokenizer = AutoTokenizer.from_pretrained(model_name)\n",
    "encoder_model = AutoModel.from_pretrained(model_name).to(device)\n",
    "embedding_size = encoder_model.config.hidden_size\n",
    "\n",
    "for param in encoder_model.parameters():\n",
    "    param.requires_grad = False\n"
   ]
  },
  {
   "cell_type": "code",
   "execution_count": 140,
   "metadata": {},
   "outputs": [],
   "source": [
    "def context_aware_embed(texts):\n",
    "    \"\"\" \n",
    "    using encoder-only transformers, process the input texts to context-aware embeddings for downstream tasks\n",
    "    \"\"\"\n",
    "    inputs = tokenizer(texts, padding=True, truncation=True, return_tensors=\"pt\").to(device)\n",
    "    with torch.no_grad():\n",
    "        outputs = encoder_model(**inputs)\n",
    "    return outputs.last_hidden_state"
   ]
  },
  {
   "cell_type": "code",
   "execution_count": 139,
   "metadata": {},
   "outputs": [
    {
     "name": "stdout",
     "output_type": "stream",
     "text": [
      "Shape of context awared embedding: torch.Size([2, 25, 768])\n"
     ]
    }
   ],
   "source": [
    "# Example input text\n",
    "texts = [\"I love this product! something, no matter how long as long as this is \", \"The experience was terrible that I don't want to come any more and the number is depend on the longest sequence\"]\n",
    "\n",
    "context_aware_embedding = context_aware_embed(texts)\n",
    "print(f\"Shape of context awared embedding: {context_aware_embedding.shape}\")  # [2, 25, 768] -> [batch_size, max_length_of_entire_batch, embedding_size]"
   ]
  },
  {
   "cell_type": "markdown",
   "metadata": {},
   "source": [
    "### Step 3: pass the context aware embedding to multiple layers of CNN"
   ]
  },
  {
   "cell_type": "code",
   "execution_count": 113,
   "metadata": {},
   "outputs": [],
   "source": [
    "class CNN_Model(torch.nn.Module):\n",
    "    def __init__(self, embedding_size):\n",
    "        \"\"\"\n",
    "        k1 k2: conv layer size, conv layer size: k1 x embedding_size\n",
    "        n1 n2: channel #\n",
    "        \"\"\"\n",
    "        super().__init__()\n",
    "        k1 = 2\n",
    "        k2 = 4\n",
    "        channel_size1 = 10\n",
    "        channel_size2 = 20\n",
    "\n",
    "        kernal_size1 = (k1, embedding_size)\n",
    "        kernal_size2 = (k2, embedding_size)\n",
    "\n",
    "        self.conv1 = torch.nn.Conv2d(1, channel_size1, kernal_size1, bias=False)\n",
    "        self.conv2 = torch.nn.Conv2d(1, channel_size2, kernal_size2, bias=False)\n",
    "\n",
    "        self.output_model = torch.nn.Linear(channel_size1 + channel_size2 , 27)\n",
    "\n",
    "\n",
    "    def forward(self, embedded_text):\n",
    "        # embedded_text: [2, 7, 768] batch 2, all sentences max length 8, embedding size 768\n",
    "        sentence_emb = embedded_text.unsqueeze(1)  # for conv2d()\n",
    "\n",
    "        conv1_out = self.conv1(sentence_emb)\n",
    "        conv2_out = self.conv2(sentence_emb)\n",
    "\n",
    "        conv1_out = torch.nn.functional.relu(conv1_out)\n",
    "        conv2_out = torch.nn.functional.relu(conv2_out)\n",
    "\n",
    "        conv1_out = conv1_out.squeeze(3)\n",
    "        conv2_out = conv2_out.squeeze(3)\n",
    "\n",
    "        # maxpool\n",
    "        conv1_out = torch.nn.functional.max_pool1d(conv1_out, conv1_out.size(2)).squeeze(2)  # [batch_size, n1]\n",
    "        conv2_out = torch.nn.functional.max_pool1d(conv2_out, conv2_out.size(2)).squeeze(2)  # [batch_size, n2]\n",
    "\n",
    "\n",
    "        after_maxpool = torch.cat((conv1_out, conv2_out), 1)\n",
    "        # return torch.sigmoid(self.output_model(after_maxpool))  # apply sigmoid\n",
    "        distribution = self.output_model(after_maxpool)\n",
    "        return F.softmax(distribution, dim=1)"
   ]
  },
  {
   "cell_type": "code",
   "execution_count": 114,
   "metadata": {},
   "outputs": [],
   "source": [
    "CNN = CNN_Model(embedding_size)\n",
    "\n",
    "output = CNN(context_aware_embedding)"
   ]
  },
  {
   "cell_type": "code",
   "execution_count": 115,
   "metadata": {},
   "outputs": [
    {
     "name": "stdout",
     "output_type": "stream",
     "text": [
      "torch.Size([2, 27])\n"
     ]
    }
   ],
   "source": [
    "print(output.shape)"
   ]
  },
  {
   "cell_type": "markdown",
   "metadata": {},
   "source": [
    "### Dataset\n",
    "[go emotions](https://huggingface.co/datasets/google-research-datasets/go_emotions)\n",
    "\n",
    "\n",
    "#### Import the dataset"
   ]
  },
  {
   "cell_type": "code",
   "execution_count": 48,
   "metadata": {},
   "outputs": [],
   "source": [
    "from datasets import load_dataset\n",
    "\n",
    "ds = load_dataset(\"google-research-datasets/go_emotions\", \"simplified\")"
   ]
  },
  {
   "cell_type": "markdown",
   "metadata": {},
   "source": [
    "#### Stats of the go_emotions dataset"
   ]
  },
  {
   "cell_type": "code",
   "execution_count": 95,
   "metadata": {},
   "outputs": [
    {
     "name": "stdout",
     "output_type": "stream",
     "text": [
      "Admiration: 4130\n",
      "Amusement: 2328\n",
      "Anger: 1567\n",
      "Annoyance: 2470\n",
      "Approval: 2939\n",
      "Caring: 1087\n",
      "Confusion: 1368\n",
      "Curiosity: 2191\n",
      "Desire: 641\n",
      "Disappointment: 1269\n",
      "Disapproval: 2022\n",
      "Disgust: 793\n",
      "Embarrassment: 303\n",
      "Excitement: 853\n",
      "Fear: 596\n",
      "Gratitude: 2662\n",
      "Grief: 77\n",
      "Joy: 1452\n",
      "Love: 2086\n",
      "Nervousness: 164\n",
      "Optimism: 1581\n",
      "Pride: 111\n",
      "Realization: 1110\n",
      "Relief: 153\n",
      "Remorse: 545\n",
      "Sadness: 1326\n",
      "Surprise: 1060\n",
      "Neutral: 14219\n",
      "On average, each sentence has 51103 / 43410 = 1.1772172310527529 emotions\n"
     ]
    }
   ],
   "source": [
    "from collections import Counter\n",
    "\n",
    "# Initialize a counter to track label frequencies\n",
    "label_counter = Counter()\n",
    "# Iterate over each example in the training dataset\n",
    "for example in ds['train']:\n",
    "    # 'labels' is a list of integers representing emotion labels\n",
    "    labels = example['labels']\n",
    "    # Update the counter with the labels\n",
    "    label_counter.update(labels)\n",
    "\n",
    "emotion_names = list(id_to_class.values())\n",
    "\n",
    "# Print the frequency of each emotion label\n",
    "for idx, emotion in enumerate(emotion_names):\n",
    "    print(f\"{emotion}: {label_counter[idx]}\")\n",
    "\n",
    "print(f\"On average, each sentence has {sum(label_counter.values())} / {len(ds['train'])} = {sum(label_counter.values()) / len(ds['train'])} emotions\")\n"
   ]
  },
  {
   "cell_type": "code",
   "execution_count": null,
   "metadata": {},
   "outputs": [],
   "source": [
    "class GoEmotionsDataset(Dataset):\n",
    "    def __init__(self, hf_dataset):\n",
    "        self.dataset = hf_dataset\n",
    "\n",
    "    def __len__(self):\n",
    "        return len(self.dataset)\n",
    "\n",
    "    def __getitem__(self, idx):\n",
    "        item = self.dataset[idx]\n",
    "        text = item['text']\n",
    "        labels = item['labels']\n",
    "        return text, labels\n",
    "    \n",
    "\n",
    "# We need to process the lables because label could be different size, ie, some has label [Anger], some have label [Sadness, Nervousness]\n",
    "# Solution: convert all labels to one-hot.\n",
    "def my_collate_fn(batch):\n",
    "    texts, labels = zip(*batch)\n",
    "    # Initialize a tensor for multi-hot encoding\n",
    "    multi_hot_labels = torch.zeros((len(labels), 27), dtype=torch.float32)\n",
    "    for i, label_list in enumerate(labels):\n",
    "        for label in label_list:\n",
    "            multi_hot_labels[i, label - 1] = 1.0\n",
    "    return list(texts), multi_hot_labels\n",
    "\n",
    "\n",
    "train_dataset = GoEmotionsDataset(ds['train'])\n",
    "val_dataset = GoEmotionsDataset(ds['validation'])\n",
    "test_dataset = GoEmotionsDataset(ds['test'])\n",
    "\n",
    "train_dataloader = DataLoader(train_dataset, batch_size=4, shuffle=True, collate_fn=my_collate_fn)\n",
    "# val_dataloader = DataLoader(val_dataset, batch_size=4, shuffle=True, collate_fn=my_collate_fn)\n",
    "# test_dataloader = DataLoader(test_dataset, batch_size=4, shuffle=True, collate_fn=my_collate_fn)\n"
   ]
  },
  {
   "cell_type": "code",
   "execution_count": 107,
   "metadata": {},
   "outputs": [
    {
     "name": "stdout",
     "output_type": "stream",
     "text": [
      "10853\n",
      "torch.Size([4, 31, 768])\n"
     ]
    }
   ],
   "source": [
    "print(len(train_dataloader))\n",
    "for each in train_dataloader:\n",
    "    texts, labels = each\n",
    "    print(context_aware_embed(texts).shape)\n",
    "    break"
   ]
  },
  {
   "cell_type": "markdown",
   "metadata": {},
   "source": [
    "### Train"
   ]
  },
  {
   "cell_type": "code",
   "execution_count": null,
   "metadata": {},
   "outputs": [],
   "source": [
    "def infer(model):\n",
    "    # TODO: implement this\n",
    "    pass\n",
    "\n",
    "def test(model, dataset, loss_function, device):\n",
    "    \"\"\" \n",
    "    model: model to be trained\n",
    "    dataset: Dataset type or its descendant, to feed into DataLoader\n",
    "    \"\"\"\n",
    "    test_dataloader = DataLoader(dataset, batch_size=100, shuffle=True, collate_fn=my_collate_fn)\n",
    "    # we first move our model to the configured device\n",
    "    model = model.to(device = device)\n",
    "\n",
    "    # we make sure we are not tracking gradient\n",
    "    # gradient is used in training, we do not need it for test\n",
    "    with torch.no_grad():\n",
    "        risk = 0  ## COMPLETED ##\n",
    "        accuracy = 0  ## COMPLETED ##\n",
    "\n",
    "        # here we are only evaluating the model\n",
    "        ## COMPLETED ##\n",
    "        model.eval()\n",
    "        # loop over test mini-batches\n",
    "        for i, (texts, labels) in enumerate(test_dataloader):\n",
    "            # reshape labels to have the same form as output\n",
    "            # make sure labels are of torch.float32 type\n",
    "            # labels = labels.to(torch.float32).unsqueeze(dim=1).to(device=device)  ## COMPLETED ##\n",
    "\n",
    "            # move tensors to the configured device\n",
    "            # images = images.to(device=device)\n",
    "            # labels = ## COMPLETE ##\n",
    "\n",
    "            # forward pass\n",
    "            context_aware_emb = context_aware_embed(texts)\n",
    "            labels = labels.to(device)\n",
    "            outputs = model(context_aware_emb)  ## COMPLETED ##\n",
    "            loss = loss_function(outputs, labels)  ## COMPLETED ## using loss_function\n",
    "\n",
    "            # determine the class of output from sigmoid output\n",
    "            predicted = outputs >= 0.2  \n",
    "            # TODO: move to infer()\n",
    "            # TODO: find appropriate threshold \n",
    "            # TODO: if predicted is none, pick highest\n",
    "            predicted = predicted.int()\n",
    "\n",
    "            # compute the fraction of correctly predicted labels\n",
    "            correct_predict = (predicted == labels).sum()  ## COMPLETED ##\n",
    "\n",
    "            risk += loss.item()\n",
    "            accuracy += correct_predict.item()\n",
    "\n",
    "        # average test risk and accuracy over the whole test dataset\n",
    "        test_risk = risk / len(test_dataloader)  ## COMPLETED ##\n",
    "        test_accuracy = accuracy / len(test_dataloader)  ## COMPLETED ##\n",
    "\n",
    "    return test_risk, test_accuracy\n",
    "\n",
    "\n",
    "def train(model, dataset, num_epochs, lr, batch_size, device=device):\n",
    "    \"\"\" \n",
    "    model: model to be trained\n",
    "    dataset: Dataset type or its descendant, to feed into DataLoader\n",
    "    \"\"\"\n",
    "\n",
    "    train_dataloader = DataLoader(dataset, batch_size=batch_size, shuffle=True, collate_fn=my_collate_fn)\n",
    "    # we first move our model to the configured device\n",
    "    model = model.to(device = device)\n",
    "\n",
    "    # set loss function to the corrent one\n",
    "    loss_function = nn.BCELoss()  ## COMPLETED ##\n",
    "\n",
    "    # Set optimizer with optimizer\n",
    "    optimizer = torch.optim.Adam(model.parameters(), lr=lr)  # using Adam optimizer in PyTorch + parameters in the assignment\n",
    "\n",
    "    # Initiate the values\n",
    "    train_risk = []  ## COMPLETED ##\n",
    "    test_risk = []  ## COMPLETED ##\n",
    "    test_accuracy = []  ## COMPLETED ##\n",
    "\n",
    "\n",
    "    for epoch in range(num_epochs):\n",
    "        # training risk in one epoch\n",
    "        risk = 0  # initiate\n",
    "\n",
    "        # tell pytorch that you start training\n",
    "        model.train()\n",
    "        # loop over training data\n",
    "        for i, (texts, labels) in tqdm(enumerate(train_dataloader)):\n",
    "            # process texts with encoder transformer to make them context aware embeddings\n",
    "            context_aware_emb = context_aware_embed(texts)\n",
    "\n",
    "            # reshape labels to have the same form as output\n",
    "            # make sure labels are of torch.float32 type\n",
    "            # labels = labels.to(torch.float32).unsqueeze(dim=1).to(device=device)  ## COMPLETED ##\n",
    "\n",
    "            # move tensors to the configured device\n",
    "            # images = images.to(device = device)\n",
    "            # labels = ## COMPLETE ##\n",
    "            context_aware_emb = context_aware_emb.to(device)\n",
    "            labels = labels.to(device=device)\n",
    "            # forward pass\n",
    "            outputs = model(context_aware_emb)  ## COMPLETED ##\n",
    "            loss = loss_function(outputs, labels)  ## COMPLETED ##\n",
    "\n",
    "            # collect the training loss\n",
    "            risk += loss.item()\n",
    "\n",
    "            # backward pass\n",
    "            optimizer.zero_grad()\n",
    "            ## COMPLETED ##\n",
    "            loss.backward()\n",
    "            # one step of gradient descent\n",
    "            ## COMPLETED ##\n",
    "            optimizer.step()\n",
    "\n",
    "        # first we tell pytorch we are doing evaluation (reassure it, as we have already included it in test())\n",
    "        ## COMPLETED ##\n",
    "        model.eval()\n",
    "        # test out model after update by the optimizer\n",
    "        risk_epoch, accuracy_epoch = test(model, val_dataset, loss_function, device)  ## COMPLETED ## with test()\n",
    "\n",
    "        # collect losses and accuracy\n",
    "        train_risk.append(risk / len(train_dataloader))\n",
    "        test_risk.append(risk_epoch)\n",
    "        test_accuracy.append(accuracy_epoch)\n",
    "\n",
    "        # we can print a message every second epoch\n",
    "        if (epoch+1) % 2 == 0:\n",
    "            print(f\"accuracy_epoch: {accuracy_epoch}\")  ## COMPLETED ## write your message\n",
    "                \n",
    "            \n",
    "\n",
    "    # plot the training and test losses\n",
    "    plt.plot([i+1 for i in range(num_epochs)], train_risk, label='train')\n",
    "    plt.plot([i+1 for i in range(num_epochs)], test_risk, label='test')\n",
    "    plt.legend()\n",
    "    plt.title('Train and Test Risk')\n",
    "    plt.xlabel('Epoch')\n",
    "    plt.ylabel('Risk')\n",
    "    plt.show()\n",
    "\n",
    "    # plot the test accuracy\n",
    "    plt.plot([i+1 for i in range(num_epochs)], test_accuracy)\n",
    "    plt.title('Test Accuracy')\n",
    "    plt.xlabel('Epoch')\n",
    "    plt.ylabel('Accuracy')\n",
    "    plt.show()\n",
    "\n",
    "    print(train_risk, test_risk, test_accuracy)"
   ]
  },
  {
   "cell_type": "code",
   "execution_count": 145,
   "metadata": {},
   "outputs": [
    {
     "data": {
      "text/plain": [
       "(0.09442096813158556, 2561.1454545454544)"
      ]
     },
     "execution_count": 145,
     "metadata": {},
     "output_type": "execute_result"
    }
   ],
   "source": [
    "loss_function = nn.BCELoss()\n",
    "test(CNN, val_dataset, loss_function, device)"
   ]
  },
  {
   "cell_type": "markdown",
   "metadata": {},
   "source": [
    "### Train!"
   ]
  },
  {
   "cell_type": "code",
   "execution_count": 146,
   "metadata": {},
   "outputs": [
    {
     "name": "stderr",
     "output_type": "stream",
     "text": [
      "2714it [00:33, 81.58it/s]\n",
      "2714it [00:32, 82.91it/s]\n"
     ]
    },
    {
     "name": "stdout",
     "output_type": "stream",
     "text": [
      "accuracy_epoch: 2561.6363636363635\n"
     ]
    },
    {
     "name": "stderr",
     "output_type": "stream",
     "text": [
      "2714it [00:32, 83.39it/s]\n",
      "2714it [00:33, 81.59it/s]\n"
     ]
    },
    {
     "name": "stdout",
     "output_type": "stream",
     "text": [
      "accuracy_epoch: 2560.581818181818\n"
     ]
    },
    {
     "name": "stderr",
     "output_type": "stream",
     "text": [
      "2714it [00:33, 80.26it/s]\n",
      "2714it [00:33, 81.69it/s]\n"
     ]
    },
    {
     "name": "stdout",
     "output_type": "stream",
     "text": [
      "accuracy_epoch: 2558.9454545454546\n"
     ]
    },
    {
     "name": "stderr",
     "output_type": "stream",
     "text": [
      "2714it [00:33, 80.59it/s]\n",
      "2714it [00:32, 83.20it/s]\n"
     ]
    },
    {
     "name": "stdout",
     "output_type": "stream",
     "text": [
      "accuracy_epoch: 2559.8\n"
     ]
    },
    {
     "name": "stderr",
     "output_type": "stream",
     "text": [
      "2714it [00:33, 80.87it/s]\n",
      "2714it [00:33, 80.96it/s]\n"
     ]
    },
    {
     "name": "stdout",
     "output_type": "stream",
     "text": [
      "accuracy_epoch: 2557.8\n"
     ]
    },
    {
     "data": {
      "image/png": "[encoded data removed]",
      "text/plain": [
       "<Figure size 640x480 with 1 Axes>"
      ]
     },
     "metadata": {},
     "output_type": "display_data"
    },
    {
     "data": {
      "image/png": "[encoded data removed]",
      "text/plain": [
       "<Figure size 640x480 with 1 Axes>"
      ]
     },
     "metadata": {},
     "output_type": "display_data"
    },
    {
     "name": "stdout",
     "output_type": "stream",
     "text": [
      "[0.09139230717646127, 0.08887776068439907, 0.08691946140647637, 0.08519081123771699, 0.08374300173654681, 0.08228504929661355, 0.0810837885838444, 0.08010482875521822, 0.0790368579595721, 0.07801532149918833] [0.09331120902841741, 0.09281801445917649, 0.09349698234688152, 0.09383786699988625, 0.09311851398511366, 0.09422323730858889, 0.09504763863303445, 0.09448649178851734, 0.09726071493192152, 0.09875329570336776] [2562.7636363636366, 2561.6363636363635, 2560.981818181818, 2560.581818181818, 2561.3636363636365, 2558.9454545454546, 2560.2181818181816, 2559.8, 2557.163636363636, 2557.8]\n"
     ]
    }
   ],
   "source": [
    "# CNN = CNN_Model(embedding_size)\n",
    "train(CNN, train_dataset, 10, 0.001, 16, device)"
   ]
  },
  {
   "cell_type": "code",
   "execution_count": 154,
   "metadata": {},
   "outputs": [],
   "source": [
    "sample_input1 = \"I am so disappoint to see this coming\"\n",
    "\n",
    "result = CNN(context_aware_embed(sample_input1))"
   ]
  },
  {
   "cell_type": "code",
   "execution_count": 155,
   "metadata": {},
   "outputs": [
    {
     "name": "stdout",
     "output_type": "stream",
     "text": [
      "Highest value: 0.35708168148994446 at index 24\n",
      "Second highest value: 0.23130156099796295 at index 8\n"
     ]
    }
   ],
   "source": [
    "# Use torch.topk to find the top 2 values and their indices\n",
    "top_values, top_indices = torch.topk(result, k=2, dim=1)\n",
    "\n",
    "# Extract the highest and second-highest values and their indices\n",
    "highest_value = top_values[0, 0].item()\n",
    "highest_index = top_indices[0, 0].item()\n",
    "second_highest_value = top_values[0, 1].item()\n",
    "second_highest_index = top_indices[0, 1].item()\n",
    "\n",
    "print(f\"Highest value: {highest_value} at index {highest_index}\")\n",
    "print(f\"Second highest value: {second_highest_value} at index {second_highest_index}\")"
   ]
  },
  {
   "cell_type": "code",
   "execution_count": null,
   "metadata": {},
   "outputs": [],
   "source": []
  }
 ],
 "metadata": {
  "kernelspec": {
   "display_name": "ece1786",
   "language": "python",
   "name": "python3"
  },
  "language_info": {
   "codemirror_mode": {
    "name": "ipython",
    "version": 3
   },
   "file_extension": ".py",
   "mimetype": "text/x-python",
   "name": "python",
   "nbconvert_exporter": "python",
   "pygments_lexer": "ipython3",
   "version": "3.10.15"
  }
 },
 "nbformat": 4,
 "nbformat_minor": 2
}
