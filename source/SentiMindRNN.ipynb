{
 "cells": [
  {
   "cell_type": "markdown",
   "metadata": {},
   "source": [
    "# SentiMind, Sentence Sentiment Clasfier\n",
    "### Input and Output\n",
    "The input is a sentence or sentences. The output is a list of 0-27 represent one or more sentiment including admiration, gratitude, surprise, or neutural.\n",
    "\n",
    "### Architecture\n",
    "the model or architecture we plan is \n",
    "1. Tokenizing the input\n",
    "2. use one of the pretrained encoder transformer from hugging face to process the embedding, make it context aware to increase accuracy.\n",
    "3. pass the context aware embedding to multiple layer of CNN, maybe 6 layers, each of a configuration of VGG level. \n",
    "4. connect the output of CNN to flattened and connect to FNN to make final classfication.\n",
    "5. softmax the result, include all class with prob greater than a threshold. For example, if a class is more than 0.3, include as output. anger 0.4, remorese 0.35, rest 0.25, output [anger, remorses]."
   ]
  },
  {
   "cell_type": "code",
   "execution_count": 1,
   "metadata": {},
   "outputs": [
    {
     "name": "stdout",
     "output_type": "stream",
     "text": [
      "cuda\n"
     ]
    }
   ],
   "source": [
    "from transformers import AutoTokenizer, AutoModel\n",
    "import torch\n",
    "import torch.nn as nn\n",
    "import torch.nn.functional as F\n",
    "from torch.utils.data import DataLoader\n",
    "from torch.utils.data import Dataset\n",
    "import torch.nn.utils.rnn as rnn_utils\n",
    "\n",
    "# for plotting\n",
    "import matplotlib.pyplot as plt\n",
    "\n",
    "# for algebric computations\n",
    "import numpy as np\n",
    "from pprint import pprint\n",
    "from tqdm import tqdm\n",
    "\n",
    "# We may choose a GPU if we have one on our machine\n",
    "if torch.backends.cuda.is_built():\n",
    "  # if we have cuda\n",
    "  # usually on Windows machines with GPU\n",
    "  device = \"cuda\"\n",
    "elif torch.backends.mps.is_built():\n",
    "  # if we have MPS\n",
    "  # usually on MAC\n",
    "  device = \"mps\"\n",
    "else:\n",
    "  # if not we should use our CPU\n",
    "  device = \"cpu\"\n",
    "print(device)\n",
    "\n",
    "id_to_class = {\n",
    "    0: 'Admiration',\n",
    "    1: 'Amusement',\n",
    "    2: 'Anger',\n",
    "    3: 'Annoyance',\n",
    "    4: 'Approval',\n",
    "    5: 'Caring',\n",
    "    6: 'Confusion',\n",
    "    7: 'Curiosity',\n",
    "    8: 'Desire',\n",
    "    9: 'Disappointment',\n",
    "    10: 'Disapproval',\n",
    "    11: 'Disgust',\n",
    "    12: 'Embarrassment',\n",
    "    13: 'Excitement',\n",
    "    14: 'Fear',\n",
    "    15: 'Gratitude',\n",
    "    16: 'Grief',\n",
    "    17: 'Joy',\n",
    "    18: 'Love',\n",
    "    19: 'Nervousness',\n",
    "    20: 'Optimism',\n",
    "    21: 'Pride',\n",
    "    22: 'Realization',\n",
    "    23: 'Relief',\n",
    "    24: 'Remorse',\n",
    "    25: 'Sadness',\n",
    "    26: 'Surprise',\n",
    "    27: 'Neutral'\n",
    "    }"
   ]
  },
  {
   "cell_type": "markdown",
   "metadata": {},
   "source": [
    "##### Step 1 and 2: Tokenizing the input, use one of the pretrained encoder transformer from hugging face to process the embedding, make it context aware to increase accuracy."
   ]
  },
  {
   "cell_type": "code",
   "execution_count": 2,
   "metadata": {},
   "outputs": [
    {
     "name": "stderr",
     "output_type": "stream",
     "text": [
      "Some weights of RobertaModel were not initialized from the model checkpoint at roberta-base and are newly initialized: ['roberta.pooler.dense.bias', 'roberta.pooler.dense.weight']\n",
      "You should probably TRAIN this model on a down-stream task to be able to use it for predictions and inference.\n"
     ]
    }
   ],
   "source": [
    "# Choose a model\n",
    "model_name = \"roberta-base\"  # Replace with \"albert-base-v2\", \"distilroberta-base\", or \"huawei-noah/TinyBERT_General_4L_312D\"\n",
    "tokenizer = AutoTokenizer.from_pretrained(model_name)\n",
    "encoder_model = AutoModel.from_pretrained(model_name).to(device)\n",
    "embedding_size = encoder_model.config.hidden_size\n",
    "\n",
    "for param in encoder_model.parameters():\n",
    "    param.requires_grad = False\n"
   ]
  },
  {
   "cell_type": "code",
   "execution_count": 3,
   "metadata": {},
   "outputs": [],
   "source": [
    "def context_aware_embed(texts):\n",
    "    \"\"\" \n",
    "    using encoder-only transformers, process the input texts to context-aware embeddings for downstream tasks\n",
    "    \"\"\"\n",
    "    inputs = tokenizer(texts, padding=True, truncation=True, return_tensors=\"pt\").to(device)\n",
    "    lengths = inputs[\"attention_mask\"].sum(dim=1)\n",
    "    with torch.no_grad():\n",
    "        outputs = encoder_model(**inputs)\n",
    "    return outputs.last_hidden_state, lengths"
   ]
  },
  {
   "cell_type": "code",
   "execution_count": 4,
   "metadata": {},
   "outputs": [
    {
     "name": "stdout",
     "output_type": "stream",
     "text": [
      "Shape of context awared embedding: torch.Size([2, 24, 768])\n",
      "Shape of lengths: torch.Size([2])\n"
     ]
    },
    {
     "name": "stderr",
     "output_type": "stream",
     "text": [
      "c:\\Users\\26597\\miniconda3\\envs\\ece1786\\lib\\site-packages\\transformers\\models\\roberta\\modeling_roberta.py:370: UserWarning: 1Torch was not compiled with flash attention. (Triggered internally at C:\\cb\\pytorch_1000000000000\\work\\aten\\src\\ATen\\native\\transformers\\cuda\\sdp_utils.cpp:555.)\n",
      "  attn_output = torch.nn.functional.scaled_dot_product_attention(\n"
     ]
    }
   ],
   "source": [
    "# Example input text\n",
    "texts = [\"I love this product! something, no matter how long as long as this is\", \"The experience was terrible that I don't want to come any more and the number is depend on the longest sequence\"]\n",
    "\n",
    "context_aware_embedding, lengths = context_aware_embed(texts)\n",
    "print(f\"Shape of context awared embedding: {context_aware_embedding.shape}\")  # [2, 25, 768] -> [batch_size, max_length_of_entire_batch, embedding_size]\n",
    "print(f\"Shape of lengths: {lengths.shape}\")"
   ]
  },
  {
   "cell_type": "markdown",
   "metadata": {},
   "source": [
    "### Step 3: pass the context aware embedding to multiple layers of CNN"
   ]
  },
  {
   "cell_type": "code",
   "execution_count": 5,
   "metadata": {},
   "outputs": [],
   "source": [
    "class LSTM_Model(nn.Module):\n",
    "    def __init__(self, embedding_size, hidden_size=1024, num_layers=5, num_classes=28, dropout=0.2):\n",
    "        super(LSTM_Model, self).__init__()\n",
    "        \n",
    "        # LSTM Layer\n",
    "        self.lstm = nn.LSTM(\n",
    "            input_size=embedding_size,\n",
    "            hidden_size=hidden_size,\n",
    "            num_layers=num_layers,\n",
    "            batch_first=True,\n",
    "            bidirectional=True,\n",
    "            dropout=dropout if num_layers > 1 else 0  # No dropout for single-layer LSTM\n",
    "        )\n",
    "        \n",
    "        # Fully Connected Layers\n",
    "        self.fc1 = nn.Linear(hidden_size * 2, 2048)  # Bidirectional LSTM doubles hidden size\n",
    "        self.fc2 = nn.Linear(2048, 1024)\n",
    "        self.fc3 = nn.Linear(1024, num_classes)\n",
    "        \n",
    "        # Dropout and Batch Normalization\n",
    "        self.dropout = nn.Dropout(dropout)\n",
    "        self.batchnorm1 = nn.BatchNorm1d(2048)\n",
    "        self.batchnorm2 = nn.BatchNorm1d(1024)\n",
    "        \n",
    "        # Activation Function\n",
    "        self.sigmoid = nn.Sigmoid()\n",
    "\n",
    "    def forward(self, embedded_text, lengths):\n",
    "        \"\"\"\n",
    "        embedded_text: Tensor of shape [batch_size, seq_len, embedding_size]\n",
    "        lengths: List or tensor of sequence lengths for each batch\n",
    "        \"\"\"\n",
    "        # Pack the sequence for LSTM\n",
    "        packed_embedded = rnn_utils.pack_padded_sequence(\n",
    "            embedded_text, lengths, batch_first=True, enforce_sorted=False\n",
    "        )\n",
    "        \n",
    "        # Pass through LSTM\n",
    "        packed_output, (hidden, cell) = self.lstm(packed_embedded)\n",
    "        \n",
    "        # Concatenate the final forward and backward hidden states\n",
    "        lstm_out = torch.cat((hidden[-2], hidden[-1]), dim=1)  # [batch_size, hidden_size * 2]\n",
    "        \n",
    "        # Fully connected layers with dropout and batch normalization\n",
    "        x = F.relu(self.fc1(lstm_out))\n",
    "        x = self.batchnorm1(x)\n",
    "        x = self.dropout(x)\n",
    "        \n",
    "        x = F.relu(self.fc2(x))\n",
    "        x = self.batchnorm2(x)\n",
    "        x = self.dropout(x)\n",
    "        \n",
    "        x = self.fc3(x)  # [batch_size, num_classes]\n",
    "        return self.sigmoid(x)  # Multi-label classification probabilities"
   ]
  },
  {
   "cell_type": "code",
   "execution_count": 6,
   "metadata": {},
   "outputs": [],
   "source": [
    "LSTM = LSTM_Model(embedding_size).to(device)\n",
    "context_aware_embedding = context_aware_embedding.to(device)\n",
    "output = LSTM(context_aware_embedding, lengths.to('cpu'))\n",
    "\n",
    "# try:\n",
    "#     # Load the model weights\n",
    "#     CNN.load_state_dict(torch.load(\"cnn_model_weights.pt\"))\n",
    "# except Exception as e:\n",
    "#     print(e)"
   ]
  },
  {
   "cell_type": "code",
   "execution_count": 7,
   "metadata": {},
   "outputs": [
    {
     "name": "stdout",
     "output_type": "stream",
     "text": [
      "tensor([[0.5213, 0.3326, 0.5901, 0.4818, 0.3256, 0.5030, 0.4895, 0.5908, 0.3627,\n",
      "         0.5852, 0.5146, 0.4011, 0.5379, 0.4959, 0.4630, 0.3826, 0.5684, 0.2869,\n",
      "         0.5179, 0.3559, 0.6145, 0.2322, 0.6151, 0.4098, 0.4802, 0.5524, 0.4109,\n",
      "         0.5519],\n",
      "        [0.4631, 0.7094, 0.4824, 0.3808, 0.6588, 0.7753, 0.4697, 0.4658, 0.7236,\n",
      "         0.3615, 0.3754, 0.4595, 0.5649, 0.3626, 0.4784, 0.5109, 0.5592, 0.7608,\n",
      "         0.4335, 0.5933, 0.5589, 0.7501, 0.2382, 0.5350, 0.5348, 0.3731, 0.4864,\n",
      "         0.5391]], device='cuda:0', grad_fn=<SigmoidBackward0>)\n"
     ]
    }
   ],
   "source": [
    "print(output)"
   ]
  },
  {
   "cell_type": "markdown",
   "metadata": {},
   "source": [
    "### Dataset\n",
    "[go emotions](https://huggingface.co/datasets/google-research-datasets/go_emotions)\n",
    "\n",
    "\n",
    "#### Import the dataset"
   ]
  },
  {
   "cell_type": "code",
   "execution_count": 8,
   "metadata": {},
   "outputs": [],
   "source": [
    "from datasets import load_dataset\n",
    "\n",
    "ds = load_dataset(\"google-research-datasets/go_emotions\", \"simplified\")"
   ]
  },
  {
   "cell_type": "markdown",
   "metadata": {},
   "source": [
    "#### Stats of the go_emotions dataset"
   ]
  },
  {
   "cell_type": "code",
   "execution_count": 9,
   "metadata": {},
   "outputs": [
    {
     "name": "stdout",
     "output_type": "stream",
     "text": [
      "Admiration: 4130\n",
      "Amusement: 2328\n",
      "Anger: 1567\n",
      "Annoyance: 2470\n",
      "Approval: 2939\n",
      "Caring: 1087\n",
      "Confusion: 1368\n",
      "Curiosity: 2191\n",
      "Desire: 641\n",
      "Disappointment: 1269\n",
      "Disapproval: 2022\n",
      "Disgust: 793\n",
      "Embarrassment: 303\n",
      "Excitement: 853\n",
      "Fear: 596\n",
      "Gratitude: 2662\n",
      "Grief: 77\n",
      "Joy: 1452\n",
      "Love: 2086\n",
      "Nervousness: 164\n",
      "Optimism: 1581\n",
      "Pride: 111\n",
      "Realization: 1110\n",
      "Relief: 153\n",
      "Remorse: 545\n",
      "Sadness: 1326\n",
      "Surprise: 1060\n",
      "Neutral: 14219\n",
      "On average, each sentence has 51103 / 43410 = 1.1772172310527529 emotions\n"
     ]
    }
   ],
   "source": [
    "from collections import Counter\n",
    "\n",
    "# Initialize a counter to track label frequencies\n",
    "label_counter = Counter()\n",
    "# Iterate over each example in the training dataset\n",
    "for example in ds['train']:\n",
    "    # 'labels' is a list of integers representing emotion labels\n",
    "    labels = example['labels']\n",
    "    # Update the counter with the labels\n",
    "    label_counter.update(labels)\n",
    "\n",
    "emotion_names = list(id_to_class.values())\n",
    "\n",
    "# Print the frequency of each emotion label\n",
    "for idx, emotion in enumerate(emotion_names):\n",
    "    print(f\"{emotion}: {label_counter[idx]}\")\n",
    "\n",
    "print(f\"On average, each sentence has {sum(label_counter.values())} / {len(ds['train'])} = {sum(label_counter.values()) / len(ds['train'])} emotions\")\n"
   ]
  },
  {
   "cell_type": "code",
   "execution_count": 10,
   "metadata": {},
   "outputs": [],
   "source": [
    "class GoEmotionsDataset(Dataset):\n",
    "    def __init__(self, hf_dataset):\n",
    "        self.dataset = hf_dataset\n",
    "\n",
    "    def __len__(self):\n",
    "        return len(self.dataset)\n",
    "\n",
    "    def __getitem__(self, idx):\n",
    "        item = self.dataset[idx]\n",
    "        text = item['text']\n",
    "        labels = item['labels']\n",
    "        return text, labels\n",
    "    \n",
    "\n",
    "# We need to process the lables because label could be different size, ie, some has label [Anger], some have label [Sadness, Nervousness]\n",
    "# Solution: convert all labels to one-hot.\n",
    "def my_collate_fn(batch):\n",
    "    texts, labels = zip(*batch)\n",
    "    # Initialize a tensor for multi-hot encoding\n",
    "    multi_hot_labels = torch.zeros((len(labels), 28), dtype=torch.float32)\n",
    "    for i, label_list in enumerate(labels):\n",
    "        for label in label_list:\n",
    "            multi_hot_labels[i, label - 1] = 1.0\n",
    "    return list(texts), multi_hot_labels\n",
    "\n",
    "\n",
    "train_dataset = GoEmotionsDataset(ds['train'])\n",
    "val_dataset = GoEmotionsDataset(ds['validation'])\n",
    "test_dataset = GoEmotionsDataset(ds['test'])\n",
    "\n",
    "train_dataloader = DataLoader(train_dataset, batch_size=4, shuffle=True, collate_fn=my_collate_fn)\n",
    "# val_dataloader = DataLoader(val_dataset, batch_size=4, shuffle=True, collate_fn=my_collate_fn)\n",
    "# test_dataloader = DataLoader(test_dataset, batch_size=4, shuffle=True, collate_fn=my_collate_fn)\n"
   ]
  },
  {
   "cell_type": "code",
   "execution_count": 11,
   "metadata": {},
   "outputs": [
    {
     "name": "stdout",
     "output_type": "stream",
     "text": [
      "10853\n",
      "torch.Size([4, 31, 768])\n"
     ]
    }
   ],
   "source": [
    "print(len(train_dataloader))\n",
    "for each in train_dataloader:\n",
    "    texts, labels = each\n",
    "    print(context_aware_embed(texts)[0].shape)\n",
    "    break"
   ]
  },
  {
   "cell_type": "markdown",
   "metadata": {},
   "source": [
    "### Train"
   ]
  },
  {
   "cell_type": "code",
   "execution_count": 12,
   "metadata": {},
   "outputs": [],
   "source": [
    "def infer(probs, threshold):\n",
    "    top_values, top_indices = probs.topk(probs.shape[0])\n",
    "    print(top_values)\n",
    "    print(top_indices)\n",
    "    selected = top_indices[0:1]\n",
    "    for i in range(1, probs.shape[0]):\n",
    "        pre_value = top_values[i-1].item()\n",
    "        value = top_values[i].item()\n",
    "        index = top_indices[i:i+1]\n",
    "        print(pre_value, value, index)\n",
    "        if value > threshold * pre_value:\n",
    "            selected = torch.cat((selected, index), dim=0)\n",
    "        else:\n",
    "            return selected\n",
    "    return selected\n",
    "\n",
    "def calculate_acc(predicted, labels):\n",
    "    # Convert tensors to lists of indices for each row\n",
    "    labels = [row.nonzero(as_tuple=True)[0].tolist() for row in labels]\n",
    "    predicted = [row.nonzero(as_tuple=True)[0].tolist() for row in predicted]\n",
    "\n",
    "    # Calculate accuracy\n",
    "    correct = 0\n",
    "    total = 0\n",
    "\n",
    "    for label, pred in zip(labels, predicted):\n",
    "        # Convert to sets for easier comparison\n",
    "        label_set = set(label)\n",
    "        pred_set = set(pred)\n",
    "\n",
    "        # Count matches\n",
    "        correct += len(label_set.intersection(pred_set))\n",
    "        total += len(label_set.union(pred_set))\n",
    "\n",
    "    # Return accuracy as a float (handle edge case of total = 0)\n",
    "    return correct / total if total > 0 else 0.0\n",
    "\n",
    "def test(model, dataset, loss_function, device):\n",
    "    \"\"\" \n",
    "    model: model to be trained\n",
    "    dataset: Dataset type or its descendant, to feed into DataLoader\n",
    "    \"\"\"\n",
    "    test_dataloader = DataLoader(dataset, batch_size=100, shuffle=True, collate_fn=my_collate_fn)\n",
    "    # we first move our model to the configured device\n",
    "    model = model.to(device = device)\n",
    "\n",
    "    # we make sure we are not tracking gradient\n",
    "    # gradient is used in training, we do not need it for test\n",
    "    with torch.no_grad():\n",
    "        risk = 0  ## COMPLETED ##\n",
    "        accuracy = 0  ## COMPLETED ##\n",
    "\n",
    "        # here we are only evaluating the model\n",
    "        ## COMPLETED ##\n",
    "        model.eval()\n",
    "        # loop over test mini-batches\n",
    "        for i, (texts, labels) in enumerate(test_dataloader):\n",
    "            # reshape labels to have the same form as output\n",
    "            # make sure labels are of torch.float32 type\n",
    "            # labels = labels.to(torch.float32).unsqueeze(dim=1).to(device=device)  ## COMPLETED ##\n",
    "\n",
    "            # move tensors to the configured device\n",
    "            # images = images.to(device=device)\n",
    "            # labels = ## COMPLETE ##\n",
    "\n",
    "            # forward pass\n",
    "            context_aware_emb, lengths = context_aware_embed(texts)\n",
    "            labels = labels.to(device)\n",
    "            outputs = model(context_aware_emb, lengths.to('cpu'))  ## COMPLETED ##\n",
    "            loss = loss_function(outputs, labels)  ## COMPLETED ## using loss_function\n",
    "\n",
    "            # determine the class of output from sigmoid output\n",
    "            predicted = outputs >= 0.5\n",
    "            # TODO: move to infer()\n",
    "            # TODO: find appropriate threshold \n",
    "            # TODO: if predicted is none, pick highest\n",
    "            predicted = predicted.int()\n",
    "\n",
    "            # compute the fraction of correctly predicted labels\n",
    "            # correct_predict = (predicted == labels).sum() / 28  ## COMPLETED ##  # TODO: consider partially correct answer, this is very wrong now: a lot of 0 == 0 in 28 classes counted for correct answer solution: accuracy calculation \n",
    "\n",
    "            risk += loss.item()\n",
    "            accuracy += calculate_acc(predicted, labels)\n",
    "\n",
    "        # average test risk and accuracy over the whole test dataset\n",
    "        test_risk = risk / len(test_dataloader)  ## COMPLETED ##\n",
    "        test_accuracy = accuracy / len(test_dataloader)  ## COMPLETED ##\n",
    "\n",
    "    return test_risk, test_accuracy\n",
    "\n",
    "\n",
    "def train(model, dataset, num_epochs, lr, batch_size, device=device):\n",
    "    \"\"\" \n",
    "    model: model to be trained\n",
    "    dataset: Dataset type or its descendant, to feed into DataLoader\n",
    "    \"\"\"\n",
    "\n",
    "    train_dataloader = DataLoader(dataset, batch_size=batch_size, shuffle=True, collate_fn=my_collate_fn)\n",
    "    # we first move our model to the configured device\n",
    "    model = model.to(device = device)\n",
    "\n",
    "    # set loss function to the corrent one\n",
    "    loss_function = nn.BCELoss()  ## COMPLETED ##\n",
    "\n",
    "    # Set optimizer with optimizer\n",
    "    optimizer = torch.optim.Adam(model.parameters(), lr=lr)  # using Adam optimizer in PyTorch + parameters in the assignment\n",
    "\n",
    "    # Initiate the values\n",
    "    train_risk = []  ## COMPLETED ##\n",
    "    test_risk = []  ## COMPLETED ##\n",
    "    test_accuracy = []  ## COMPLETED ##\n",
    "\n",
    "\n",
    "    for epoch in range(num_epochs):\n",
    "        # training risk in one epoch\n",
    "        risk = 0  # initiate\n",
    "\n",
    "        # tell pytorch that you start training\n",
    "        model.train()\n",
    "        # loop over training data\n",
    "        for i, (texts, labels) in tqdm(enumerate(train_dataloader)):\n",
    "            # process texts with encoder transformer to make them context aware embeddings\n",
    "            context_aware_emb, lengths = context_aware_embed(texts)\n",
    "\n",
    "            # reshape labels to have the same form as output\n",
    "            # make sure labels are of torch.float32 type\n",
    "            # labels = labels.to(torch.float32).unsqueeze(dim=1).to(device=device)  ## COMPLETED ##\n",
    "\n",
    "            # move tensors to the configured device\n",
    "            # images = images.to(device = device)\n",
    "            # labels = ## COMPLETE ##\n",
    "            context_aware_emb = context_aware_emb.to(device)\n",
    "            labels = labels.to(device=device)\n",
    "            # forward pass\n",
    "            outputs = model(context_aware_emb, lengths.to('cpu'))  ## COMPLETED ##\n",
    "            loss = loss_function(outputs, labels)  ## COMPLETED ##\n",
    "\n",
    "            # collect the training loss\n",
    "            risk += loss.item()\n",
    "\n",
    "            # backward pass\n",
    "            optimizer.zero_grad()\n",
    "            ## COMPLETED ##\n",
    "            loss.backward()\n",
    "            # one step of gradient descent\n",
    "            ## COMPLETED ##\n",
    "            optimizer.step()\n",
    "\n",
    "        # first we tell pytorch we are doing evaluation (reassure it, as we have already included it in test())\n",
    "        ## COMPLETED ##\n",
    "        model.eval()\n",
    "        # test out model after update by the optimizer\n",
    "        risk_epoch, accuracy_epoch = test(model, val_dataset, loss_function, device)  ## COMPLETED ## with test()\n",
    "\n",
    "        # collect losses and accuracy\n",
    "        train_risk.append(risk / len(train_dataloader))\n",
    "        test_risk.append(risk_epoch)\n",
    "        test_accuracy.append(accuracy_epoch)\n",
    "\n",
    "        # we can print a message every second epoch\n",
    "        if (epoch+1) % 2 == 0:\n",
    "            print(f\"accuracy_epoch: {accuracy_epoch}\")  ## COMPLETED ## write your message\n",
    "                \n",
    "            \n",
    "\n",
    "    # plot the training and test losses\n",
    "    plt.plot([i+1 for i in range(num_epochs)], train_risk, label='train')\n",
    "    plt.plot([i+1 for i in range(num_epochs)], test_risk, label='test')\n",
    "    plt.legend()\n",
    "    plt.title('Train and Test Risk')\n",
    "    plt.xlabel('Epoch')\n",
    "    plt.ylabel('Risk')\n",
    "    plt.show()\n",
    "\n",
    "    # plot the test accuracy\n",
    "    plt.plot([i+1 for i in range(num_epochs)], test_accuracy)\n",
    "    plt.title('Test Accuracy')\n",
    "    plt.xlabel('Epoch')\n",
    "    plt.ylabel('Accuracy')\n",
    "    plt.show()\n",
    "\n",
    "    print(train_risk, test_risk, test_accuracy)"
   ]
  },
  {
   "cell_type": "code",
   "execution_count": 13,
   "metadata": {},
   "outputs": [
    {
     "data": {
      "text/plain": [
       "(0.6934690139510414, 0.028450308120975126)"
      ]
     },
     "execution_count": 13,
     "metadata": {},
     "output_type": "execute_result"
    }
   ],
   "source": [
    "loss_function = nn.BCELoss()\n",
    "test(LSTM, test_dataset, loss_function, device)"
   ]
  },
  {
   "cell_type": "markdown",
   "metadata": {},
   "source": [
    "### Train!"
   ]
  },
  {
   "cell_type": "code",
   "execution_count": 14,
   "metadata": {},
   "outputs": [
    {
     "name": "stderr",
     "output_type": "stream",
     "text": [
      "340it [01:11,  4.77it/s]\n",
      "340it [01:10,  4.84it/s]\n"
     ]
    },
    {
     "name": "stdout",
     "output_type": "stream",
     "text": [
      "accuracy_epoch: 0.3086726284254786\n"
     ]
    },
    {
     "name": "stderr",
     "output_type": "stream",
     "text": [
      "340it [01:09,  4.92it/s]\n",
      "340it [01:10,  4.81it/s]\n"
     ]
    },
    {
     "name": "stdout",
     "output_type": "stream",
     "text": [
      "accuracy_epoch: 0.31043389621287154\n"
     ]
    },
    {
     "name": "stderr",
     "output_type": "stream",
     "text": [
      "340it [01:12,  4.69it/s]\n",
      "340it [01:12,  4.71it/s]\n"
     ]
    },
    {
     "name": "stdout",
     "output_type": "stream",
     "text": [
      "accuracy_epoch: 0.35425567774397676\n"
     ]
    },
    {
     "name": "stderr",
     "output_type": "stream",
     "text": [
      "340it [01:12,  4.68it/s]\n",
      "340it [01:12,  4.70it/s]\n"
     ]
    },
    {
     "name": "stdout",
     "output_type": "stream",
     "text": [
      "accuracy_epoch: 0.3666104195100795\n"
     ]
    },
    {
     "name": "stderr",
     "output_type": "stream",
     "text": [
      "340it [01:12,  4.68it/s]\n",
      "340it [01:12,  4.69it/s]\n"
     ]
    },
    {
     "name": "stdout",
     "output_type": "stream",
     "text": [
      "accuracy_epoch: 0.3734796595043572\n"
     ]
    },
    {
     "data": {
      "image/png": "[encoded data removed]",
      "text/plain": [
       "<Figure size 640x480 with 1 Axes>"
      ]
     },
     "metadata": {},
     "output_type": "display_data"
    },
    {
     "data": {
      "image/png": "[encoded data removed]",
      "text/plain": [
       "<Figure size 640x480 with 1 Axes>"
      ]
     },
     "metadata": {},
     "output_type": "display_data"
    },
    {
     "name": "stdout",
     "output_type": "stream",
     "text": [
      "[0.22740144429399686, 0.11635498389163439, 0.10417556094334406, 0.09717878250076491, 0.09285777079708436, 0.08761466875234071, 0.08123123610720914, 0.07423469823072938, 0.06601001679459038, 0.057486547168125124] [0.12434430474584753, 0.1267525534738194, 0.10196160294792869, 0.10520104711705988, 0.09671903455799276, 0.0969955800609155, 0.09757574674758045, 0.10267036692662672, 0.10481487918983806, 0.12414295158602974] [0.11404034026980163, 0.3086726284254786, 0.31339131121312974, 0.31043389621287154, 0.3535876057747906, 0.35425567774397676, 0.34719796170519585, 0.3666104195100795, 0.33152899467991753, 0.3734796595043572]\n"
     ]
    }
   ],
   "source": [
    "# CNN = CNN_Model(embedding_size)\n",
    "train(model=LSTM, dataset=train_dataset, num_epochs=10, lr=0.001, batch_size=128, device=device)"
   ]
  },
  {
   "cell_type": "code",
   "execution_count": 15,
   "metadata": {},
   "outputs": [
    {
     "data": {
      "text/plain": [
       "{'text': 'I’m really sorry about your situation :( Although I love the names Sapphira, Cirilla, and Scarlett!',\n",
       " 'labels': [25],\n",
       " 'id': 'eecwqtt'}"
      ]
     },
     "execution_count": 15,
     "metadata": {},
     "output_type": "execute_result"
    }
   ],
   "source": [
    "ds['test'][0]\n"
   ]
  },
  {
   "cell_type": "code",
   "execution_count": 16,
   "metadata": {},
   "outputs": [
    {
     "ename": "NameError",
     "evalue": "name 'CNN' is not defined",
     "output_type": "error",
     "traceback": [
      "\u001b[1;31m---------------------------------------------------------------------------\u001b[0m",
      "\u001b[1;31mNameError\u001b[0m                                 Traceback (most recent call last)",
      "Cell \u001b[1;32mIn[16], line 3\u001b[0m\n\u001b[0;32m      1\u001b[0m sample_input1 \u001b[38;5;241m=\u001b[39m \u001b[38;5;124m\"\u001b[39m\u001b[38;5;124mI\u001b[39m\u001b[38;5;124m'\u001b[39m\u001b[38;5;124mm really sorry about your situation :( Although I love the names Sapphira, Cirilla, and Scarlett!\u001b[39m\u001b[38;5;124m\"\u001b[39m\n\u001b[1;32m----> 3\u001b[0m result \u001b[38;5;241m=\u001b[39m \u001b[43mCNN\u001b[49m(context_aware_embed(sample_input1))\n",
      "\u001b[1;31mNameError\u001b[0m: name 'CNN' is not defined"
     ]
    }
   ],
   "source": [
    "sample_input1 = \"I'm really sorry about your situation :( Although I love the names Sapphira, Cirilla, and Scarlett!\"\n",
    "\n",
    "# result = LSTM(context_aware_embed(sample_input1))\n",
    "\n",
    "# Save the model weights\n",
    "torch.save(LSTM.state_dict(), \"LSTM_model_weights.pt\")"
   ]
  },
  {
   "cell_type": "code",
   "execution_count": null,
   "metadata": {},
   "outputs": [
    {
     "name": "stdout",
     "output_type": "stream",
     "text": [
      "Highest value: 0.3058868646621704 for class: Joy\n",
      "Second highest value: 0.2686805725097656 for class: Relief\n"
     ]
    }
   ],
   "source": [
    "# Use torch.topk to find the top 2 values and their indices\n",
    "top_values, top_indices = torch.topk(result, k=2, dim=1)\n",
    "\n",
    "# Extract the highest and second-highest values and their indices\n",
    "highest_value = top_values[0, 0].item()\n",
    "highest_index = top_indices[0, 0].item()\n",
    "second_highest_value = top_values[0, 1].item()\n",
    "second_highest_index = top_indices[0, 1].item()\n",
    "\n",
    "print(f\"Highest value: {highest_value} for class: {id_to_class[highest_index]}\")\n",
    "print(f\"Second highest value: {second_highest_value} for class: {id_to_class[second_highest_index]}\")"
   ]
  }
 ],
 "metadata": {
  "kernelspec": {
   "display_name": "Python 3",
   "language": "python",
   "name": "python3"
  },
  "language_info": {
   "codemirror_mode": {
    "name": "ipython",
    "version": 3
   },
   "file_extension": ".py",
   "mimetype": "text/x-python",
   "name": "python",
   "nbconvert_exporter": "python",
   "pygments_lexer": "ipython3",
   "version": "3.10.15"
  }
 },
 "nbformat": 4,
 "nbformat_minor": 2
}
